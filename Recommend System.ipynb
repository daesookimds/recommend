{
 "cells": [
  {
   "cell_type": "markdown",
   "metadata": {},
   "source": [
    "### Load Package"
   ]
  },
  {
   "cell_type": "code",
   "execution_count": 1,
   "metadata": {},
   "outputs": [],
   "source": [
    "import numpy as np\n",
    "import pandas as pd\n",
    "from collections import defaultdict\n",
    "from surprise import Dataset\n",
    "from sklearn.metrics.pairwise import cosine_similarity\n",
    "import tensorflow as tf\n",
    "from tensorflow.keras.layers import Dense, Input, Activation, Flatten, Concatenate, Embedding, Dot, Add\n",
    "from tensorflow.keras.regularizers import l2\n",
    "from tensorflow.keras.models import Model\n",
    "from tensorflow.keras.optimizers import SGD\n",
    "from tensorflow.keras.metrics import RootMeanSquaredError"
   ]
  },
  {
   "cell_type": "markdown",
   "metadata": {},
   "source": [
    "### Load dataset\n",
    "\n",
    "- use movie lense public dataset"
   ]
  },
  {
   "cell_type": "code",
   "execution_count": 2,
   "metadata": {},
   "outputs": [],
   "source": [
    "data = Dataset.load_builtin('ml-100k')"
   ]
  },
  {
   "cell_type": "code",
   "execution_count": 3,
   "metadata": {},
   "outputs": [
    {
     "name": "stdout",
     "output_type": "stream",
     "text": [
      "(100000, 4)\n"
     ]
    },
    {
     "data": {
      "text/html": [
       "<div>\n",
       "<style scoped>\n",
       "    .dataframe tbody tr th:only-of-type {\n",
       "        vertical-align: middle;\n",
       "    }\n",
       "\n",
       "    .dataframe tbody tr th {\n",
       "        vertical-align: top;\n",
       "    }\n",
       "\n",
       "    .dataframe thead th {\n",
       "        text-align: right;\n",
       "    }\n",
       "</style>\n",
       "<table border=\"1\" class=\"dataframe\">\n",
       "  <thead>\n",
       "    <tr style=\"text-align: right;\">\n",
       "      <th></th>\n",
       "      <th>user</th>\n",
       "      <th>item</th>\n",
       "      <th>rate</th>\n",
       "      <th>id</th>\n",
       "    </tr>\n",
       "  </thead>\n",
       "  <tbody>\n",
       "    <tr>\n",
       "      <th>0</th>\n",
       "      <td>196</td>\n",
       "      <td>242</td>\n",
       "      <td>3.0</td>\n",
       "      <td>881250949</td>\n",
       "    </tr>\n",
       "    <tr>\n",
       "      <th>1</th>\n",
       "      <td>186</td>\n",
       "      <td>302</td>\n",
       "      <td>3.0</td>\n",
       "      <td>891717742</td>\n",
       "    </tr>\n",
       "    <tr>\n",
       "      <th>2</th>\n",
       "      <td>22</td>\n",
       "      <td>377</td>\n",
       "      <td>1.0</td>\n",
       "      <td>878887116</td>\n",
       "    </tr>\n",
       "    <tr>\n",
       "      <th>3</th>\n",
       "      <td>244</td>\n",
       "      <td>51</td>\n",
       "      <td>2.0</td>\n",
       "      <td>880606923</td>\n",
       "    </tr>\n",
       "    <tr>\n",
       "      <th>4</th>\n",
       "      <td>166</td>\n",
       "      <td>346</td>\n",
       "      <td>1.0</td>\n",
       "      <td>886397596</td>\n",
       "    </tr>\n",
       "  </tbody>\n",
       "</table>\n",
       "</div>"
      ],
      "text/plain": [
       "  user item  rate         id\n",
       "0  196  242   3.0  881250949\n",
       "1  186  302   3.0  891717742\n",
       "2   22  377   1.0  878887116\n",
       "3  244   51   2.0  880606923\n",
       "4  166  346   1.0  886397596"
      ]
     },
     "execution_count": 3,
     "metadata": {},
     "output_type": "execute_result"
    }
   ],
   "source": [
    "ratings = pd.DataFrame(data.raw_ratings, columns = ['user', 'item', 'rate',' id'])\n",
    "\n",
    "print(ratings.shape)\n",
    "ratings.head()"
   ]
  },
  {
   "cell_type": "markdown",
   "metadata": {},
   "source": [
    "### Score Mixin"
   ]
  },
  {
   "cell_type": "code",
   "execution_count": 4,
   "metadata": {},
   "outputs": [],
   "source": [
    "class ScoreMixin(object):\n",
    "    \n",
    "    def score(self):\n",
    "        print(f\"{self.__class__.__name__} evaluation start.\")\n",
    "        rating_test = self.ratings.sample(n=round(self.ratings.shape[0]*0.25))\n",
    "        y_true = rating_test.rate\n",
    "        y_pred = [self.rate(user, item) for user, item in zip(rating_test.user, rating_test.item)]\n",
    "        rmse_score = self.rmse(y_true, y_pred)\n",
    "        print(f\"{self.__class__.__name__}\", rmse_score)\n",
    "        \n",
    "        return rmse_score\n",
    "    \n",
    "    @staticmethod\n",
    "    def rmse(y_true, y_pred):\n",
    "        y_true = np.array(y_true)\n",
    "        y_pred = np.array(y_pred)\n",
    "        \n",
    "        rmse = np.sqrt(np.mean((y_true - y_pred) ** 2))\n",
    "        \n",
    "        return rmse"
   ]
  },
  {
   "cell_type": "markdown",
   "metadata": {},
   "source": [
    "### Baseline Recommend"
   ]
  },
  {
   "cell_type": "code",
   "execution_count": 5,
   "metadata": {},
   "outputs": [],
   "source": [
    "class Baseline_Recommender(ScoreMixin):\n",
    "    \n",
    "    def train(self, X):\n",
    "        print(f\"{self.__class__.__name__} train start.\")\n",
    "        self.ratings = X.copy()\n",
    "        self.full_matrix = self.ratings.pivot('user', 'item', 'rate')\n",
    "        self.full_matrix_dummy = self.full_matrix.fillna(0).copy()\n",
    "        self.avg_rating = self.ratings.rate.mean()\n",
    "        \n",
    "        return self\n",
    "    \n",
    "    def rate(self, user, item):\n",
    "        return self.avg_rating\n",
    "    \n",
    "    def recommend(self, user, n_items):\n",
    "        print(f\"{self.__class__.__name__} recommend start.\")\n",
    "        try:\n",
    "            user_items = self.full_matrix.loc[user].copy()\n",
    "        except: # recommend to random item for new customer\n",
    "            reco_items = self.ratings.item.sample(n=n_items, random_state=42).tolist()\n",
    "        else:\n",
    "            for item in self.full_matrix.columns:\n",
    "                if pd.notnull(user_items[item]):\n",
    "                    user_items.loc[item] = 0 # already rating\n",
    "                else:\n",
    "                    user_items.loc[item] = self.rate(user, item)\n",
    "                    \n",
    "            reco_items = user_items.sort_values(ascending=False).index[:n_items].tolist()\n",
    "            \n",
    "        return reco_items"
   ]
  },
  {
   "cell_type": "code",
   "execution_count": 6,
   "metadata": {},
   "outputs": [],
   "source": [
    "br = Baseline_Recommender()"
   ]
  },
  {
   "cell_type": "code",
   "execution_count": 7,
   "metadata": {},
   "outputs": [
    {
     "name": "stdout",
     "output_type": "stream",
     "text": [
      "Baseline_Recommender train start.\n"
     ]
    },
    {
     "data": {
      "text/plain": [
       "<__main__.Baseline_Recommender at 0x7fd31f1b5f90>"
      ]
     },
     "execution_count": 7,
     "metadata": {},
     "output_type": "execute_result"
    }
   ],
   "source": [
    "br.train(ratings)"
   ]
  },
  {
   "cell_type": "code",
   "execution_count": 8,
   "metadata": {},
   "outputs": [
    {
     "data": {
      "text/plain": [
       "3.52986"
      ]
     },
     "execution_count": 8,
     "metadata": {},
     "output_type": "execute_result"
    }
   ],
   "source": [
    "br.rate('1', '947')"
   ]
  },
  {
   "cell_type": "code",
   "execution_count": 9,
   "metadata": {},
   "outputs": [
    {
     "name": "stdout",
     "output_type": "stream",
     "text": [
      "Baseline_Recommender recommend start.\n"
     ]
    },
    {
     "data": {
      "text/plain": [
       "['999', '372', '350', '818', '349', '348', '347', '346', '345', '344']"
      ]
     },
     "execution_count": 9,
     "metadata": {},
     "output_type": "execute_result"
    }
   ],
   "source": [
    "br.recommend('1', 10)"
   ]
  },
  {
   "cell_type": "markdown",
   "metadata": {},
   "source": [
    "### UBCF (User Based Collaborative Filtering)"
   ]
  },
  {
   "cell_type": "code",
   "execution_count": 10,
   "metadata": {},
   "outputs": [],
   "source": [
    "class Ubcf_Recommender(Baseline_Recommender):\n",
    "    \n",
    "    def train(self, X):\n",
    "        super().train(X)\n",
    "        self.user_sim = pd.DataFrame(data=cosine_similarity(self.full_matrix_dummy, self.full_matrix_dummy), \n",
    "                                     index=self.full_matrix_dummy.index,\n",
    "                                     columns=self.full_matrix_dummy.index)\n",
    "        \n",
    "        return self\n",
    "    \n",
    "    def rate(self, user, item):\n",
    "        if item in self.full_matrix.columns:\n",
    "            user_sims = self.user_sim[user]\n",
    "            item_ratings = self.full_matrix[item]\n",
    "            none_ratings_idx = item_ratings[item_ratings.isnull()].index\n",
    "            user_sims = user_sims.drop(none_ratings_idx)\n",
    "            item_ratings = item_ratings.dropna()    \n",
    "            rating = np.dot(user_sims, item_ratings) / user_sims.sum()\n",
    "        else:\n",
    "            rating = self.avg_rating\n",
    "            \n",
    "        return rating\n",
    "        "
   ]
  },
  {
   "cell_type": "code",
   "execution_count": 11,
   "metadata": {},
   "outputs": [],
   "source": [
    "ur = Ubcf_Recommender()"
   ]
  },
  {
   "cell_type": "code",
   "execution_count": 12,
   "metadata": {},
   "outputs": [
    {
     "name": "stdout",
     "output_type": "stream",
     "text": [
      "Ubcf_Recommender train start.\n"
     ]
    },
    {
     "data": {
      "text/plain": [
       "<__main__.Ubcf_Recommender at 0x7fd31f1b5d50>"
      ]
     },
     "execution_count": 12,
     "metadata": {},
     "output_type": "execute_result"
    }
   ],
   "source": [
    "ur.train(ratings)"
   ]
  },
  {
   "cell_type": "code",
   "execution_count": 13,
   "metadata": {},
   "outputs": [
    {
     "data": {
      "text/plain": [
       "3.316926723993723"
      ]
     },
     "execution_count": 13,
     "metadata": {},
     "output_type": "execute_result"
    }
   ],
   "source": [
    "ur.rate('1', '947')"
   ]
  },
  {
   "cell_type": "code",
   "execution_count": 14,
   "metadata": {},
   "outputs": [
    {
     "name": "stdout",
     "output_type": "stream",
     "text": [
      "Ubcf_Recommender recommend start.\n"
     ]
    },
    {
     "data": {
      "text/plain": [
       "['1201', '814', '1653', '1467', '1122', '1536', '1500', '1599', '1189', '1293']"
      ]
     },
     "execution_count": 14,
     "metadata": {},
     "output_type": "execute_result"
    }
   ],
   "source": [
    "ur.recommend('1', 10)"
   ]
  },
  {
   "cell_type": "markdown",
   "metadata": {},
   "source": [
    "### UBCF KNN (K-Nearest Neighbor)"
   ]
  },
  {
   "cell_type": "code",
   "execution_count": 15,
   "metadata": {},
   "outputs": [],
   "source": [
    "class Ubcf_Knn_Recommender(Ubcf_Recommender):\n",
    "    \n",
    "    def __init__(self, K=30):\n",
    "        self.K = K\n",
    "                \n",
    "    def rate(self, user, item):\n",
    "        if item in self.full_matrix.columns:\n",
    "            user_sims = self.user_sim[user]\n",
    "            item_ratings = self.full_matrix[item]\n",
    "            none_ratings_idx = item_ratings[item_ratings.isnull()].index\n",
    "            user_sims = user_sims.drop(none_ratings_idx)\n",
    "            item_ratings = item_ratings.dropna()    \n",
    "\n",
    "            if self.K == 0:\n",
    "                rating = np.dot(user_sims, item_ratings) / user_sims.sum()\n",
    "            else:\n",
    "                if len(user_sims) > 1:\n",
    "                    neighbor_size = min(len(user_sims), self.K)\n",
    "                    user_sims = np.array(user_sims)\n",
    "                    item_ratings = np.array(item_ratings)\n",
    "                    user_idx = np.argsort(user_sims)\n",
    "                    user_sims = user_sims[user_idx][-neighbor_size:]\n",
    "                    item_ratings = item_ratings[user_idx][-neighbor_size:]\n",
    "                    rating = np.dot(user_sims, item_ratings) / user_sims.sum()\n",
    "                else:\n",
    "                    rating = self.avg_rating\n",
    "                    \n",
    "        else:\n",
    "            rating = self.avg_rating\n",
    "            \n",
    "        return rating"
   ]
  },
  {
   "cell_type": "code",
   "execution_count": 16,
   "metadata": {},
   "outputs": [],
   "source": [
    "ukr = Ubcf_Knn_Recommender(10)"
   ]
  },
  {
   "cell_type": "code",
   "execution_count": 17,
   "metadata": {},
   "outputs": [
    {
     "name": "stdout",
     "output_type": "stream",
     "text": [
      "Ubcf_Knn_Recommender train start.\n"
     ]
    },
    {
     "data": {
      "text/plain": [
       "<__main__.Ubcf_Knn_Recommender at 0x7fd31f617450>"
      ]
     },
     "execution_count": 17,
     "metadata": {},
     "output_type": "execute_result"
    }
   ],
   "source": [
    "ukr.train(ratings)"
   ]
  },
  {
   "cell_type": "code",
   "execution_count": 18,
   "metadata": {},
   "outputs": [
    {
     "data": {
      "text/plain": [
       "3.4598709191134143"
      ]
     },
     "execution_count": 18,
     "metadata": {},
     "output_type": "execute_result"
    }
   ],
   "source": [
    "ukr.rate('1', '947')"
   ]
  },
  {
   "cell_type": "code",
   "execution_count": 19,
   "metadata": {},
   "outputs": [
    {
     "name": "stdout",
     "output_type": "stream",
     "text": [
      "Ubcf_Knn_Recommender recommend start.\n"
     ]
    },
    {
     "data": {
      "text/plain": [
       "['1500', '1467', '1293', '1189', '1656', '483', '313', '963', '1449', '357']"
      ]
     },
     "execution_count": 19,
     "metadata": {},
     "output_type": "execute_result"
    }
   ],
   "source": [
    "ukr.recommend('1', 10)"
   ]
  },
  {
   "cell_type": "markdown",
   "metadata": {},
   "source": [
    "### UBCF KNN Bias"
   ]
  },
  {
   "cell_type": "code",
   "execution_count": 20,
   "metadata": {},
   "outputs": [],
   "source": [
    "class Ubcf_Knn_Bias_Recommender(Ubcf_Knn_Recommender):\n",
    "        \n",
    "    def train(self, X):\n",
    "        super().train(X)\n",
    "        self.ratings_mean = self.full_matrix.mean(axis=1)\n",
    "        self.ratings_bias = (self.full_matrix.T - self.ratings_mean).T\n",
    "        \n",
    "        return self\n",
    "    \n",
    "    def rate(self, user, item):\n",
    "        if item in self.ratings_bias.columns:\n",
    "            user_sims = self.user_sim[user]\n",
    "            item_ratings = self.ratings_bias[item]\n",
    "            none_ratings_idx = item_ratings[item_ratings.isnull()].index\n",
    "            user_sims = user_sims.drop(none_ratings_idx)\n",
    "            item_ratings = item_ratings.dropna()    \n",
    "\n",
    "            if self.K == 0:\n",
    "                rating = np.dot(user_sims, item_ratings) / user_sims.sum() + self.ratings_mean[user]\n",
    "            else:\n",
    "                if len(user_sims) > 1:\n",
    "                    neighbor_size = min(len(user_sims), self.K)\n",
    "                    user_sims = np.array(user_sims)\n",
    "                    item_ratings = np.array(item_ratings)\n",
    "                    user_idx = np.argsort(user_sims)\n",
    "                    user_sims = user_sims[user_idx][-neighbor_size:]\n",
    "                    item_ratings = item_ratings[user_idx][-neighbor_size:]\n",
    "                    rating = np.dot(user_sims, item_ratings) / user_sims.sum() + self.ratings_mean[user]\n",
    "                else:\n",
    "                    rating = self.ratings_mean[user]\n",
    "                    \n",
    "        else:\n",
    "            rating = self.ratings_mean[user]\n",
    "            \n",
    "        return rating"
   ]
  },
  {
   "cell_type": "code",
   "execution_count": 21,
   "metadata": {},
   "outputs": [],
   "source": [
    "ukbr = Ubcf_Knn_Bias_Recommender()"
   ]
  },
  {
   "cell_type": "code",
   "execution_count": 22,
   "metadata": {},
   "outputs": [
    {
     "name": "stdout",
     "output_type": "stream",
     "text": [
      "Ubcf_Knn_Bias_Recommender train start.\n"
     ]
    },
    {
     "data": {
      "text/plain": [
       "<__main__.Ubcf_Knn_Bias_Recommender at 0x7fd31f608d10>"
      ]
     },
     "execution_count": 22,
     "metadata": {},
     "output_type": "execute_result"
    }
   ],
   "source": [
    "ukbr.train(ratings)"
   ]
  },
  {
   "cell_type": "code",
   "execution_count": 23,
   "metadata": {},
   "outputs": [
    {
     "data": {
      "text/plain": [
       "3.686307852032466"
      ]
     },
     "execution_count": 23,
     "metadata": {},
     "output_type": "execute_result"
    }
   ],
   "source": [
    "ukbr.rate('1', '947')"
   ]
  },
  {
   "cell_type": "code",
   "execution_count": 24,
   "metadata": {},
   "outputs": [
    {
     "name": "stdout",
     "output_type": "stream",
     "text": [
      "Ubcf_Knn_Bias_Recommender recommend start.\n"
     ]
    },
    {
     "data": {
      "text/plain": [
       "['1500', '1467', '1463', '1293', '1642', '1367', '1449', '1398', '1189', '408']"
      ]
     },
     "execution_count": 24,
     "metadata": {},
     "output_type": "execute_result"
    }
   ],
   "source": [
    "ukbr.recommend('1', 10)"
   ]
  },
  {
   "cell_type": "markdown",
   "metadata": {},
   "source": [
    "### UBCF KNN Bias Confidence level"
   ]
  },
  {
   "cell_type": "code",
   "execution_count": 25,
   "metadata": {},
   "outputs": [],
   "source": [
    "class Ubcf_Knn_Bias_Conf_Recommender(Ubcf_Knn_Bias_Recommender):\n",
    "    \n",
    "    def __init__(self, K=30, rating_cnt=2, min_rating=2):\n",
    "        super().__init__(K)\n",
    "        self.RATING_CNT = rating_cnt\n",
    "        self.MIN_RATING = min_rating\n",
    "        \n",
    "    def train(self, X):\n",
    "        super().train(X)\n",
    "        rating_binary1 = np.array(self.full_matrix > 0).astype(float)\n",
    "        rating_binary2 = rating_binary1.T\n",
    "        counts = np.dot(rating_binary1, rating_binary2)\n",
    "        self.counts = pd.DataFrame(counts, index=self.full_matrix.index, columns=self.full_matrix.index).fillna(0)\n",
    "        \n",
    "    def rate(self, user, item):\n",
    "        \n",
    "        if item in self.ratings_bias.columns:\n",
    "            user_sims = self.user_sim[user]\n",
    "            item_ratings = self.ratings_bias[item]\n",
    "            \n",
    "            no_ratings = item_ratings.isnull()\n",
    "            common_counts = self.counts[user]\n",
    "            low_significance = common_counts < self.RATING_CNT\n",
    "            none_rating_idx = item_ratings[no_ratings | low_significance].index\n",
    "            \n",
    "            user_sims = user_sims.drop(none_rating_idx)\n",
    "            item_ratings = item_ratings.dropna()\n",
    "            \n",
    "            if self.K == 0:\n",
    "                rating = np.dot(user_sims, item_ratings) / user_sims.sum() + self.ratings_mean[user]\n",
    "            else:\n",
    "                if len(user_sims) > self.MIN_RATING:\n",
    "                    neighbor_size = min(len(user_sims), self.K)\n",
    "                    user_sims = np.array(user_sims)\n",
    "                    item_ratings = np.array(item_ratings)\n",
    "                    user_idx = np.argsort(user_sims)\n",
    "                    user_sims = user_sims[user_idx][-neighbor_size:]\n",
    "                    item_ratings =item_ratings[user_idx][-neighbor_size:]\n",
    "                    rating = np.dot(user_sims, item_ratings) / user_sims.sum() + self.ratings_mean[user]\n",
    "                else:\n",
    "                    rating = self.ratings_mean[user]\n",
    "        else:\n",
    "            rating = self.ratings_mean[user]\n",
    "        \n",
    "        return rating\n",
    "                    "
   ]
  },
  {
   "cell_type": "code",
   "execution_count": 26,
   "metadata": {},
   "outputs": [],
   "source": [
    "ukbcr = Ubcf_Knn_Bias_Conf_Recommender()"
   ]
  },
  {
   "cell_type": "code",
   "execution_count": 27,
   "metadata": {},
   "outputs": [
    {
     "name": "stdout",
     "output_type": "stream",
     "text": [
      "Ubcf_Knn_Bias_Conf_Recommender train start.\n"
     ]
    }
   ],
   "source": [
    "ukbcr.train(ratings)"
   ]
  },
  {
   "cell_type": "code",
   "execution_count": 28,
   "metadata": {},
   "outputs": [
    {
     "data": {
      "text/plain": [
       "3.686307852032466"
      ]
     },
     "execution_count": 28,
     "metadata": {},
     "output_type": "execute_result"
    }
   ],
   "source": [
    "ukbcr.rate('1', '947')"
   ]
  },
  {
   "cell_type": "code",
   "execution_count": 29,
   "metadata": {},
   "outputs": [
    {
     "name": "stdout",
     "output_type": "stream",
     "text": [
      "Ubcf_Knn_Bias_Conf_Recommender recommend start.\n"
     ]
    },
    {
     "data": {
      "text/plain": [
       "['1463', '1293', '1367', '1449', '1189', '408', '318', '1643', '483', '357']"
      ]
     },
     "execution_count": 29,
     "metadata": {},
     "output_type": "execute_result"
    }
   ],
   "source": [
    "ukbcr.recommend('1', 10)"
   ]
  },
  {
   "cell_type": "markdown",
   "metadata": {},
   "source": [
    "### IBCF (Item Based Collaborative Filtering)"
   ]
  },
  {
   "cell_type": "code",
   "execution_count": 30,
   "metadata": {},
   "outputs": [],
   "source": [
    "class Ibcf_Recommender(Baseline_Recommender):\n",
    "    \n",
    "    def train(self, X):\n",
    "        super().train(X)\n",
    "        self.full_matrix_dummy = self.full_matrix_dummy.T\n",
    "        self.item_sim = pd.DataFrame(data=cosine_similarity(self.full_matrix_dummy, self.full_matrix_dummy),\n",
    "                                     index=self.full_matrix_dummy.index,\n",
    "                                     columns=self.full_matrix_dummy.index)\n",
    "        \n",
    "        return self\n",
    "    \n",
    "    def rate(self, user, item):\n",
    "        if item in self.full_matrix.columns:\n",
    "            item_sims = self.item_sim[item]\n",
    "            item_ratings = self.full_matrix.T[user]\n",
    "            none_ratings_idx = item_ratings[item_ratings.isnull()].index\n",
    "            item_sims = item_sims.drop(none_ratings_idx)\n",
    "            item_ratings = item_ratings.dropna()\n",
    "            rating = np.dot(item_sims, item_ratings) / item_sims.sum()\n",
    "        else:\n",
    "            rating = self.avg_rating\n",
    "        \n",
    "        return rating"
   ]
  },
  {
   "cell_type": "code",
   "execution_count": 31,
   "metadata": {},
   "outputs": [],
   "source": [
    "ir = Ibcf_Recommender()"
   ]
  },
  {
   "cell_type": "code",
   "execution_count": 32,
   "metadata": {},
   "outputs": [
    {
     "name": "stdout",
     "output_type": "stream",
     "text": [
      "Ibcf_Recommender train start.\n"
     ]
    },
    {
     "data": {
      "text/plain": [
       "<__main__.Ibcf_Recommender at 0x7fd32d699490>"
      ]
     },
     "execution_count": 32,
     "metadata": {},
     "output_type": "execute_result"
    }
   ],
   "source": [
    "ir.train(ratings)"
   ]
  },
  {
   "cell_type": "code",
   "execution_count": 33,
   "metadata": {},
   "outputs": [
    {
     "data": {
      "text/plain": [
       "3.83094861122187"
      ]
     },
     "execution_count": 33,
     "metadata": {},
     "output_type": "execute_result"
    }
   ],
   "source": [
    "ir.rate('1', '947')"
   ]
  },
  {
   "cell_type": "code",
   "execution_count": 34,
   "metadata": {},
   "outputs": [
    {
     "name": "stdout",
     "output_type": "stream",
     "text": [
      "Ibcf_Recommender recommend start.\n"
     ]
    },
    {
     "data": {
      "text/plain": [
       "['1156',\n",
       " '1601',\n",
       " '1656',\n",
       " '1593',\n",
       " '1674',\n",
       " '1347',\n",
       " '1618',\n",
       " '1104',\n",
       " '1332',\n",
       " '1507']"
      ]
     },
     "execution_count": 34,
     "metadata": {},
     "output_type": "execute_result"
    }
   ],
   "source": [
    "ir.recommend('1', 10)"
   ]
  },
  {
   "cell_type": "markdown",
   "metadata": {},
   "source": [
    "### MF (Matrix Factorization)"
   ]
  },
  {
   "cell_type": "code",
   "execution_count": 35,
   "metadata": {},
   "outputs": [],
   "source": [
    "class MF_Rrecommender(Baseline_Recommender):\n",
    "    \n",
    "    def __init__(self, K, alpha, beta, iter, verbose):\n",
    "        self.K = K\n",
    "        self.alpha = alpha\n",
    "        self.beta = beta\n",
    "        self.iter = iter\n",
    "        self.verbose = verbose\n",
    "        \n",
    "    \n",
    "    def train(self, X):\n",
    "        super().train(X)\n",
    "        self.num_users, self.num_items = self.full_matrix.shape\n",
    "        self.P = np.random.normal(1/self.K, size=(self.num_users, self.K))\n",
    "        self.Q = np.random.normal(1/self.K, size=(self.num_items, self.K))\n",
    "        self.b_c = np.zeros(self.num_users)\n",
    "        self.b_i = np.zeros(self.num_items)\n",
    "        self.b = self.avg_rating\n",
    "        \n",
    "        self.R = np.array(self.full_matrix_dummy)\n",
    "        self.user_to_idx = {user:idx for idx, user in enumerate(self.full_matrix.index)} \n",
    "        self.item_to_idx = {item:idx for idx, item in enumerate(self.full_matrix.columns)}\n",
    "        rows, cols = self.R.nonzero()\n",
    "        \n",
    "        self.samples = [(row, col, self.R[row, col]) for row, col, in zip(rows, cols)]\n",
    "        \n",
    "        for i in range(self.iter):\n",
    "            np.random.shuffle(self.samples)\n",
    "            self.sgd()\n",
    "            rmse = self.rmse_inner(self.samples)\n",
    "\n",
    "            \n",
    "            if self.verbose == True:\n",
    "                if (i+1) % 10 == 0:\n",
    "                    print(f\"Iteration {i+1} : RMSE : {rmse}\")\n",
    "            \n",
    "        self.R = ((self.P.dot(self.Q.T)).T + self.b_c).T + self.b_i + self.b\n",
    "        self.full_matrix = pd.DataFrame(self.R, index=self.full_matrix.index, columns=self.full_matrix.columns)\n",
    "        \n",
    "        return self\n",
    "    \n",
    "    def sgd(self):\n",
    "        for i, j, r in self.samples:\n",
    "            pred = self.get_prediction(i, j)\n",
    "            e = (r - pred)\n",
    "            \n",
    "            self.b_c[i] += self.alpha * (e - self.beta * self.b_c[i])\n",
    "            self.b_i[j] += self.alpha * (e - self.beta * self.b_i[j])\n",
    "            \n",
    "            self.P[i, :] += self.alpha * (e * self.Q[j, :] - self.beta * self.P[i, :])\n",
    "            self.Q[j, :] += self.alpha * (e * self.P[i, :] - self.beta * self.Q[j, :])\n",
    "            \n",
    "    def rmse_inner(self, samples):\n",
    "        errors = []\n",
    "        for x, y, r in samples:\n",
    "            pred = self.get_prediction(x, y)\n",
    "            error = r - pred\n",
    "            errors.append(error)\n",
    "            \n",
    "        rmse = np.sqrt(np.mean(np.array(errors) ** 2))\n",
    "        \n",
    "        return rmse\n",
    "    \n",
    "    def get_prediction(self, i, j):\n",
    "        pred = self.b + self.b_c[i] + self.b_i[j] + self.P[i, :].dot(self.Q[j, :].T)\n",
    "        \n",
    "        return pred\n",
    "    \n",
    "    def rate(self, user, item):\n",
    "        i = self.user_to_idx[user]\n",
    "        j = self.item_to_idx[item]\n",
    "        \n",
    "        return self.R[i,j]"
   ]
  },
  {
   "cell_type": "code",
   "execution_count": 36,
   "metadata": {},
   "outputs": [],
   "source": [
    "mfr = MF_Rrecommender(K=30, alpha=0.001, beta=0.02, iter=100, verbose=True)"
   ]
  },
  {
   "cell_type": "code",
   "execution_count": 37,
   "metadata": {},
   "outputs": [
    {
     "name": "stdout",
     "output_type": "stream",
     "text": [
      "MF_Rrecommender train start.\n",
      "Iteration 10 : RMSE : 1.4570713544227356\n",
      "Iteration 20 : RMSE : 1.071982243857862\n",
      "Iteration 30 : RMSE : 0.9402443810078414\n",
      "Iteration 40 : RMSE : 0.8778102675420334\n",
      "Iteration 50 : RMSE : 0.8422752362982135\n",
      "Iteration 60 : RMSE : 0.8193103382076753\n",
      "Iteration 70 : RMSE : 0.802985671803895\n",
      "Iteration 80 : RMSE : 0.7904757071659065\n",
      "Iteration 90 : RMSE : 0.7802970690952219\n",
      "Iteration 100 : RMSE : 0.7716208876962363\n"
     ]
    },
    {
     "data": {
      "text/plain": [
       "<__main__.MF_Rrecommender at 0x7fd311c56050>"
      ]
     },
     "execution_count": 37,
     "metadata": {},
     "output_type": "execute_result"
    }
   ],
   "source": [
    "mfr.train(ratings)"
   ]
  },
  {
   "cell_type": "code",
   "execution_count": 38,
   "metadata": {},
   "outputs": [
    {
     "data": {
      "text/plain": [
       "2.396145106383072"
      ]
     },
     "execution_count": 38,
     "metadata": {},
     "output_type": "execute_result"
    }
   ],
   "source": [
    "mfr.rate('1', '947')"
   ]
  },
  {
   "cell_type": "code",
   "execution_count": 39,
   "metadata": {},
   "outputs": [
    {
     "name": "stdout",
     "output_type": "stream",
     "text": [
      "MF_Rrecommender recommend start.\n"
     ]
    },
    {
     "data": {
      "text/plain": [
       "['1', '479', '50', '5', '499', '498', '497', '496', '495', '494']"
      ]
     },
     "execution_count": 39,
     "metadata": {},
     "output_type": "execute_result"
    }
   ],
   "source": [
    "mfr.recommend('1', 10)"
   ]
  },
  {
   "cell_type": "markdown",
   "metadata": {},
   "source": [
    "### Deep Learning (Neural Network)"
   ]
  },
  {
   "cell_type": "code",
   "execution_count": 40,
   "metadata": {},
   "outputs": [],
   "source": [
    "class OneLayerNeuralNetwork_Recommender(Baseline_Recommender):\n",
    "    \n",
    "    def __init__(self, K=200, epochs=100, batch_size=256):\n",
    "        self.K = K\n",
    "        self.epochs = epochs\n",
    "        self.batch_size = batch_size\n",
    "        \n",
    "    def train(self, X, refresh=True):\n",
    "        super().train(X)\n",
    "        self.user_to_idx = defaultdict(int)\n",
    "        self.item_to_idx = defaultdict(int)\n",
    "        \n",
    "        def mapper(x, dict_val):\n",
    "            if dict_val[x]:\n",
    "                dict_val[x] = len(dict_val)\n",
    "                \n",
    "        self.ratings.user.apply(mapper, args=(self.user_to_idx,))\n",
    "        self.ratings.item.apply(mapper, args=(self.item_to_idx,))\n",
    "        \n",
    "        self.ratings.user = self.ratings.user.apply(lambda x: self.user_to_idx[x])\n",
    "        self.ratings.item = self.ratings.item.apply(lambda x: self.item_to_idx[x])\n",
    "        M = self.ratings.user.unique().size + 1\n",
    "        N = self.ratings.item.unique().size + 1\n",
    "        self.mu = self.ratings.rate.mean()\n",
    "        \n",
    "        if refresh:\n",
    "            user = Input(shape=(1,))\n",
    "            item = Input(shape=(1,))\n",
    "            \n",
    "            P_embedding = Embedding(M, self.K, embeddings_regularizer=l2())(user)\n",
    "            Q_embedding = Embedding(N, self.K, embeddings_regularizer=l2())(item)\n",
    "            b_c_embedding = Embedding(M, 1, embeddings_regularizer=l2())(user)\n",
    "            b_i_embedding = Embedding(N, 1, embeddings_regularizer=l2())(item)\n",
    "            \n",
    "            R = Dot(axes=2)([P_embedding, Q_embedding])\n",
    "            R = Add()([R, b_c_embedding, b_i_embedding])\n",
    "            R = Flatten()(R)\n",
    "            \n",
    "            self.model = Model(inputs=[user, item], outputs=R)\n",
    "            self.model.compile(loss=self.rmse,\n",
    "                               optimizer=SGD(),\n",
    "                               metrics=[self.rmse, RootMeanSquaredError()])\n",
    "            self.model.summary()\n",
    "            self.model.fit(x=[self.ratings.user.values, self.ratings.item.values],\n",
    "                           y=self.ratings.rate - self.mu,\n",
    "                           epochs=self.epochs,\n",
    "                           batch_size=self.batch_size,\n",
    "                           validation_split=0.25)\n",
    "            \n",
    "            self.R = R\n",
    "            \n",
    "        return self\n",
    "                \n",
    "    def rate(self, user, item):\n",
    "        u_idx = self.user_to_idx[user]\n",
    "        i_idx = self.item_to_idx[item]\n",
    "        \n",
    "        return self.model.predict([np.array([u_idx]), np.array([i_idx])])[0][0] + self.mu\n",
    "    \n",
    "    @staticmethod\n",
    "    def rmse(y_true, y_pred):\n",
    "        return tf.sqrt(tf.reduce_mean(tf.square(y_true - y_pred)))\n",
    "    \n",
    "    def save(self, name):\n",
    "        self.model.save(name)\n",
    "        "
   ]
  },
  {
   "cell_type": "code",
   "execution_count": 41,
   "metadata": {},
   "outputs": [],
   "source": [
    "olnnr = OneLayerNeuralNetwork_Recommender()"
   ]
  },
  {
   "cell_type": "code",
   "execution_count": 42,
   "metadata": {
    "scrolled": false
   },
   "outputs": [
    {
     "name": "stdout",
     "output_type": "stream",
     "text": [
      "OneLayerNeuralNetwork_Recommender train start.\n",
      "Model: \"model\"\n",
      "__________________________________________________________________________________________________\n",
      "Layer (type)                    Output Shape         Param #     Connected to                     \n",
      "==================================================================================================\n",
      "input_1 (InputLayer)            [(None, 1)]          0                                            \n",
      "__________________________________________________________________________________________________\n",
      "input_2 (InputLayer)            [(None, 1)]          0                                            \n",
      "__________________________________________________________________________________________________\n",
      "embedding (Embedding)           (None, 1, 200)       400         input_1[0][0]                    \n",
      "__________________________________________________________________________________________________\n",
      "embedding_1 (Embedding)         (None, 1, 200)       400         input_2[0][0]                    \n",
      "__________________________________________________________________________________________________\n",
      "dot (Dot)                       (None, 1, 1)         0           embedding[0][0]                  \n",
      "                                                                 embedding_1[0][0]                \n",
      "__________________________________________________________________________________________________\n",
      "embedding_2 (Embedding)         (None, 1, 1)         2           input_1[0][0]                    \n",
      "__________________________________________________________________________________________________\n",
      "embedding_3 (Embedding)         (None, 1, 1)         2           input_2[0][0]                    \n",
      "__________________________________________________________________________________________________\n",
      "add (Add)                       (None, 1, 1)         0           dot[0][0]                        \n",
      "                                                                 embedding_2[0][0]                \n",
      "                                                                 embedding_3[0][0]                \n",
      "__________________________________________________________________________________________________\n",
      "flatten (Flatten)               (None, 1)            0           add[0][0]                        \n",
      "==================================================================================================\n",
      "Total params: 804\n",
      "Trainable params: 804\n",
      "Non-trainable params: 0\n",
      "__________________________________________________________________________________________________\n",
      "Epoch 1/100\n",
      "293/293 [==============================] - 1s 3ms/step - loss: 1.1327 - rmse: 1.1262 - root_mean_squared_error: 1.1270 - val_loss: 1.1239 - val_rmse: 1.1180 - val_root_mean_squared_error: 1.1188\n",
      "Epoch 2/100\n",
      "293/293 [==============================] - 0s 1ms/step - loss: 1.1344 - rmse: 1.1287 - root_mean_squared_error: 1.1295 - val_loss: 1.1233 - val_rmse: 1.1181 - val_root_mean_squared_error: 1.1189\n",
      "Epoch 3/100\n",
      "293/293 [==============================] - 0s 1ms/step - loss: 1.1313 - rmse: 1.1262 - root_mean_squared_error: 1.1273 - val_loss: 1.1227 - val_rmse: 1.1180 - val_root_mean_squared_error: 1.1188\n",
      "Epoch 4/100\n",
      "293/293 [==============================] - 0s 1ms/step - loss: 1.1268 - rmse: 1.1223 - root_mean_squared_error: 1.1231 - val_loss: 1.1221 - val_rmse: 1.1179 - val_root_mean_squared_error: 1.1188\n",
      "Epoch 5/100\n",
      "293/293 [==============================] - 0s 1ms/step - loss: 1.1321 - rmse: 1.1280 - root_mean_squared_error: 1.1289 - val_loss: 1.1217 - val_rmse: 1.1180 - val_root_mean_squared_error: 1.1188\n",
      "Epoch 6/100\n",
      "293/293 [==============================] - 0s 1ms/step - loss: 1.1308 - rmse: 1.1272 - root_mean_squared_error: 1.1279 - val_loss: 1.1214 - val_rmse: 1.1181 - val_root_mean_squared_error: 1.1189\n",
      "Epoch 7/100\n",
      "293/293 [==============================] - 0s 1ms/step - loss: 1.1274 - rmse: 1.1242 - root_mean_squared_error: 1.1250 - val_loss: 1.1209 - val_rmse: 1.1180 - val_root_mean_squared_error: 1.1188\n",
      "Epoch 8/100\n",
      "293/293 [==============================] - 0s 1ms/step - loss: 1.1310 - rmse: 1.1282 - root_mean_squared_error: 1.1290 - val_loss: 1.1206 - val_rmse: 1.1180 - val_root_mean_squared_error: 1.1189\n",
      "Epoch 9/100\n",
      "293/293 [==============================] - 0s 1ms/step - loss: 1.1300 - rmse: 1.1274 - root_mean_squared_error: 1.1284 - val_loss: 1.1203 - val_rmse: 1.1180 - val_root_mean_squared_error: 1.1188\n",
      "Epoch 10/100\n",
      "293/293 [==============================] - 0s 1ms/step - loss: 1.1295 - rmse: 1.1273 - root_mean_squared_error: 1.1280 - val_loss: 1.1201 - val_rmse: 1.1180 - val_root_mean_squared_error: 1.1188\n",
      "Epoch 11/100\n",
      "293/293 [==============================] - 0s 1ms/step - loss: 1.1269 - rmse: 1.1249 - root_mean_squared_error: 1.1257 - val_loss: 1.1199 - val_rmse: 1.1180 - val_root_mean_squared_error: 1.1189\n",
      "Epoch 12/100\n",
      "293/293 [==============================] - 0s 1ms/step - loss: 1.1288 - rmse: 1.1270 - root_mean_squared_error: 1.1280 - val_loss: 1.1196 - val_rmse: 1.1180 - val_root_mean_squared_error: 1.1188\n",
      "Epoch 13/100\n",
      "293/293 [==============================] - 0s 1ms/step - loss: 1.1254 - rmse: 1.1238 - root_mean_squared_error: 1.1245 - val_loss: 1.1194 - val_rmse: 1.1180 - val_root_mean_squared_error: 1.1188\n",
      "Epoch 14/100\n",
      "293/293 [==============================] - 0s 1ms/step - loss: 1.1274 - rmse: 1.1260 - root_mean_squared_error: 1.1269 - val_loss: 1.1192 - val_rmse: 1.1179 - val_root_mean_squared_error: 1.1188\n",
      "Epoch 15/100\n",
      "293/293 [==============================] - 0s 1ms/step - loss: 1.1280 - rmse: 1.1268 - root_mean_squared_error: 1.1276 - val_loss: 1.1191 - val_rmse: 1.1180 - val_root_mean_squared_error: 1.1188\n",
      "Epoch 16/100\n",
      "293/293 [==============================] - 0s 1ms/step - loss: 1.1294 - rmse: 1.1283 - root_mean_squared_error: 1.1293 - val_loss: 1.1191 - val_rmse: 1.1181 - val_root_mean_squared_error: 1.1189\n",
      "Epoch 17/100\n",
      "293/293 [==============================] - 0s 1ms/step - loss: 1.1285 - rmse: 1.1275 - root_mean_squared_error: 1.1286 - val_loss: 1.1190 - val_rmse: 1.1181 - val_root_mean_squared_error: 1.1189\n",
      "Epoch 18/100\n",
      "293/293 [==============================] - 0s 1ms/step - loss: 1.1301 - rmse: 1.1292 - root_mean_squared_error: 1.1301 - val_loss: 1.1189 - val_rmse: 1.1181 - val_root_mean_squared_error: 1.1189\n",
      "Epoch 19/100\n",
      "293/293 [==============================] - 0s 1ms/step - loss: 1.1253 - rmse: 1.1245 - root_mean_squared_error: 1.1253 - val_loss: 1.1187 - val_rmse: 1.1180 - val_root_mean_squared_error: 1.1188\n",
      "Epoch 20/100\n",
      "293/293 [==============================] - 0s 1ms/step - loss: 1.1292 - rmse: 1.1285 - root_mean_squared_error: 1.1295 - val_loss: 1.1186 - val_rmse: 1.1180 - val_root_mean_squared_error: 1.1188\n",
      "Epoch 21/100\n",
      "293/293 [==============================] - 0s 1ms/step - loss: 1.1285 - rmse: 1.1279 - root_mean_squared_error: 1.1286 - val_loss: 1.1186 - val_rmse: 1.1181 - val_root_mean_squared_error: 1.1189\n",
      "Epoch 22/100\n",
      "293/293 [==============================] - 0s 1ms/step - loss: 1.1280 - rmse: 1.1274 - root_mean_squared_error: 1.1283 - val_loss: 1.1185 - val_rmse: 1.1180 - val_root_mean_squared_error: 1.1188\n",
      "Epoch 23/100\n",
      "293/293 [==============================] - 0s 1ms/step - loss: 1.1261 - rmse: 1.1256 - root_mean_squared_error: 1.1265 - val_loss: 1.1184 - val_rmse: 1.1180 - val_root_mean_squared_error: 1.1188\n",
      "Epoch 24/100\n",
      "293/293 [==============================] - 0s 1ms/step - loss: 1.1249 - rmse: 1.1245 - root_mean_squared_error: 1.1254 - val_loss: 1.1185 - val_rmse: 1.1181 - val_root_mean_squared_error: 1.1189\n",
      "Epoch 25/100\n",
      "293/293 [==============================] - 0s 1ms/step - loss: 1.1234 - rmse: 1.1231 - root_mean_squared_error: 1.1239 - val_loss: 1.1183 - val_rmse: 1.1179 - val_root_mean_squared_error: 1.1187\n",
      "Epoch 26/100\n",
      "293/293 [==============================] - 0s 1ms/step - loss: 1.1272 - rmse: 1.1268 - root_mean_squared_error: 1.1278 - val_loss: 1.1183 - val_rmse: 1.1180 - val_root_mean_squared_error: 1.1188\n",
      "Epoch 27/100\n",
      "293/293 [==============================] - 0s 1ms/step - loss: 1.1322 - rmse: 1.1319 - root_mean_squared_error: 1.1327 - val_loss: 1.1182 - val_rmse: 1.1180 - val_root_mean_squared_error: 1.1188\n"
     ]
    },
    {
     "name": "stdout",
     "output_type": "stream",
     "text": [
      "Epoch 28/100\n",
      "293/293 [==============================] - 0s 1ms/step - loss: 1.1268 - rmse: 1.1265 - root_mean_squared_error: 1.1273 - val_loss: 1.1183 - val_rmse: 1.1181 - val_root_mean_squared_error: 1.1189\n",
      "Epoch 29/100\n",
      "293/293 [==============================] - 0s 1ms/step - loss: 1.1258 - rmse: 1.1255 - root_mean_squared_error: 1.1261 - val_loss: 1.1182 - val_rmse: 1.1180 - val_root_mean_squared_error: 1.1188\n",
      "Epoch 30/100\n",
      "293/293 [==============================] - 0s 1ms/step - loss: 1.1255 - rmse: 1.1253 - root_mean_squared_error: 1.1260 - val_loss: 1.1182 - val_rmse: 1.1180 - val_root_mean_squared_error: 1.1188\n",
      "Epoch 31/100\n",
      "293/293 [==============================] - 0s 1ms/step - loss: 1.1240 - rmse: 1.1238 - root_mean_squared_error: 1.1245 - val_loss: 1.1181 - val_rmse: 1.1180 - val_root_mean_squared_error: 1.1188\n",
      "Epoch 32/100\n",
      "293/293 [==============================] - 0s 1ms/step - loss: 1.1227 - rmse: 1.1225 - root_mean_squared_error: 1.1233 - val_loss: 1.1182 - val_rmse: 1.1180 - val_root_mean_squared_error: 1.1189\n",
      "Epoch 33/100\n",
      "293/293 [==============================] - 0s 1ms/step - loss: 1.1294 - rmse: 1.1292 - root_mean_squared_error: 1.1300 - val_loss: 1.1181 - val_rmse: 1.1180 - val_root_mean_squared_error: 1.1188\n",
      "Epoch 34/100\n",
      "293/293 [==============================] - 0s 1ms/step - loss: 1.1257 - rmse: 1.1256 - root_mean_squared_error: 1.1264 - val_loss: 1.1182 - val_rmse: 1.1181 - val_root_mean_squared_error: 1.1189\n",
      "Epoch 35/100\n",
      "293/293 [==============================] - 0s 1ms/step - loss: 1.1242 - rmse: 1.1241 - root_mean_squared_error: 1.1248 - val_loss: 1.1181 - val_rmse: 1.1180 - val_root_mean_squared_error: 1.1188\n",
      "Epoch 36/100\n",
      "293/293 [==============================] - 0s 1ms/step - loss: 1.1243 - rmse: 1.1241 - root_mean_squared_error: 1.1250 - val_loss: 1.1180 - val_rmse: 1.1179 - val_root_mean_squared_error: 1.1188\n",
      "Epoch 37/100\n",
      "293/293 [==============================] - 0s 1ms/step - loss: 1.1237 - rmse: 1.1236 - root_mean_squared_error: 1.1244 - val_loss: 1.1181 - val_rmse: 1.1180 - val_root_mean_squared_error: 1.1188\n",
      "Epoch 38/100\n",
      "293/293 [==============================] - 0s 1ms/step - loss: 1.1270 - rmse: 1.1269 - root_mean_squared_error: 1.1279 - val_loss: 1.1182 - val_rmse: 1.1181 - val_root_mean_squared_error: 1.1189\n",
      "Epoch 39/100\n",
      "293/293 [==============================] - 0s 1ms/step - loss: 1.1286 - rmse: 1.1285 - root_mean_squared_error: 1.1294 - val_loss: 1.1180 - val_rmse: 1.1180 - val_root_mean_squared_error: 1.1188\n",
      "Epoch 40/100\n",
      "293/293 [==============================] - 0s 1ms/step - loss: 1.1218 - rmse: 1.1218 - root_mean_squared_error: 1.1226 - val_loss: 1.1181 - val_rmse: 1.1180 - val_root_mean_squared_error: 1.1188\n",
      "Epoch 41/100\n",
      "293/293 [==============================] - 0s 1ms/step - loss: 1.1245 - rmse: 1.1245 - root_mean_squared_error: 1.1252 - val_loss: 1.1180 - val_rmse: 1.1180 - val_root_mean_squared_error: 1.1188\n",
      "Epoch 42/100\n",
      "293/293 [==============================] - 0s 1ms/step - loss: 1.1298 - rmse: 1.1297 - root_mean_squared_error: 1.1305 - val_loss: 1.1181 - val_rmse: 1.1180 - val_root_mean_squared_error: 1.1188\n",
      "Epoch 43/100\n",
      "293/293 [==============================] - 0s 1ms/step - loss: 1.1251 - rmse: 1.1250 - root_mean_squared_error: 1.1258 - val_loss: 1.1180 - val_rmse: 1.1180 - val_root_mean_squared_error: 1.1188\n",
      "Epoch 44/100\n",
      "293/293 [==============================] - 0s 1ms/step - loss: 1.1305 - rmse: 1.1304 - root_mean_squared_error: 1.1312 - val_loss: 1.1181 - val_rmse: 1.1180 - val_root_mean_squared_error: 1.1189\n",
      "Epoch 45/100\n",
      "293/293 [==============================] - 0s 1ms/step - loss: 1.1230 - rmse: 1.1230 - root_mean_squared_error: 1.1238 - val_loss: 1.1180 - val_rmse: 1.1180 - val_root_mean_squared_error: 1.1188\n",
      "Epoch 46/100\n",
      "293/293 [==============================] - 0s 1ms/step - loss: 1.1273 - rmse: 1.1273 - root_mean_squared_error: 1.1282 - val_loss: 1.1180 - val_rmse: 1.1180 - val_root_mean_squared_error: 1.1188\n",
      "Epoch 47/100\n",
      "293/293 [==============================] - 0s 1ms/step - loss: 1.1264 - rmse: 1.1264 - root_mean_squared_error: 1.1273 - val_loss: 1.1181 - val_rmse: 1.1181 - val_root_mean_squared_error: 1.1189\n",
      "Epoch 48/100\n",
      "293/293 [==============================] - 0s 1ms/step - loss: 1.1251 - rmse: 1.1251 - root_mean_squared_error: 1.1261 - val_loss: 1.1180 - val_rmse: 1.1180 - val_root_mean_squared_error: 1.1188\n",
      "Epoch 49/100\n",
      "293/293 [==============================] - 0s 1ms/step - loss: 1.1276 - rmse: 1.1275 - root_mean_squared_error: 1.1285 - val_loss: 1.1180 - val_rmse: 1.1180 - val_root_mean_squared_error: 1.1188\n",
      "Epoch 50/100\n",
      "293/293 [==============================] - 0s 1ms/step - loss: 1.1309 - rmse: 1.1309 - root_mean_squared_error: 1.1318 - val_loss: 1.1180 - val_rmse: 1.1180 - val_root_mean_squared_error: 1.1188\n",
      "Epoch 51/100\n",
      "293/293 [==============================] - 0s 1ms/step - loss: 1.1279 - rmse: 1.1279 - root_mean_squared_error: 1.1289 - val_loss: 1.1180 - val_rmse: 1.1180 - val_root_mean_squared_error: 1.1188\n",
      "Epoch 52/100\n",
      "293/293 [==============================] - 0s 1ms/step - loss: 1.1264 - rmse: 1.1264 - root_mean_squared_error: 1.1272 - val_loss: 1.1180 - val_rmse: 1.1180 - val_root_mean_squared_error: 1.1188\n",
      "Epoch 53/100\n",
      "293/293 [==============================] - 0s 1ms/step - loss: 1.1258 - rmse: 1.1257 - root_mean_squared_error: 1.1266 - val_loss: 1.1180 - val_rmse: 1.1180 - val_root_mean_squared_error: 1.1189\n",
      "Epoch 54/100\n",
      "293/293 [==============================] - 0s 1ms/step - loss: 1.1294 - rmse: 1.1294 - root_mean_squared_error: 1.1303 - val_loss: 1.1180 - val_rmse: 1.1180 - val_root_mean_squared_error: 1.1188\n",
      "Epoch 55/100\n",
      "293/293 [==============================] - 0s 1ms/step - loss: 1.1297 - rmse: 1.1297 - root_mean_squared_error: 1.1306 - val_loss: 1.1181 - val_rmse: 1.1181 - val_root_mean_squared_error: 1.1189\n",
      "Epoch 56/100\n",
      "293/293 [==============================] - 0s 1ms/step - loss: 1.1293 - rmse: 1.1293 - root_mean_squared_error: 1.1302 - val_loss: 1.1181 - val_rmse: 1.1181 - val_root_mean_squared_error: 1.1189\n",
      "Epoch 57/100\n",
      "293/293 [==============================] - 0s 1ms/step - loss: 1.1252 - rmse: 1.1252 - root_mean_squared_error: 1.1261 - val_loss: 1.1180 - val_rmse: 1.1180 - val_root_mean_squared_error: 1.1188\n",
      "Epoch 58/100\n",
      "293/293 [==============================] - 0s 1ms/step - loss: 1.1320 - rmse: 1.1319 - root_mean_squared_error: 1.1328 - val_loss: 1.1181 - val_rmse: 1.1181 - val_root_mean_squared_error: 1.1189\n",
      "Epoch 59/100\n",
      "293/293 [==============================] - 0s 1ms/step - loss: 1.1268 - rmse: 1.1268 - root_mean_squared_error: 1.1276 - val_loss: 1.1180 - val_rmse: 1.1180 - val_root_mean_squared_error: 1.1189\n",
      "Epoch 60/100\n",
      "293/293 [==============================] - 0s 1ms/step - loss: 1.1269 - rmse: 1.1269 - root_mean_squared_error: 1.1278 - val_loss: 1.1180 - val_rmse: 1.1180 - val_root_mean_squared_error: 1.1189\n",
      "Epoch 61/100\n",
      "293/293 [==============================] - 0s 1ms/step - loss: 1.1301 - rmse: 1.1301 - root_mean_squared_error: 1.1308 - val_loss: 1.1180 - val_rmse: 1.1180 - val_root_mean_squared_error: 1.1188\n",
      "Epoch 62/100\n",
      "293/293 [==============================] - 0s 1ms/step - loss: 1.1247 - rmse: 1.1247 - root_mean_squared_error: 1.1255 - val_loss: 1.1180 - val_rmse: 1.1180 - val_root_mean_squared_error: 1.1188\n",
      "Epoch 63/100\n",
      "293/293 [==============================] - 0s 1ms/step - loss: 1.1302 - rmse: 1.1302 - root_mean_squared_error: 1.1312 - val_loss: 1.1180 - val_rmse: 1.1180 - val_root_mean_squared_error: 1.1189\n",
      "Epoch 64/100\n",
      "293/293 [==============================] - 0s 1ms/step - loss: 1.1235 - rmse: 1.1235 - root_mean_squared_error: 1.1245 - val_loss: 1.1180 - val_rmse: 1.1180 - val_root_mean_squared_error: 1.1189\n",
      "Epoch 65/100\n",
      "293/293 [==============================] - 0s 1ms/step - loss: 1.1252 - rmse: 1.1251 - root_mean_squared_error: 1.1260 - val_loss: 1.1181 - val_rmse: 1.1181 - val_root_mean_squared_error: 1.1189\n",
      "Epoch 66/100\n",
      "293/293 [==============================] - 0s 1ms/step - loss: 1.1231 - rmse: 1.1231 - root_mean_squared_error: 1.1238 - val_loss: 1.1181 - val_rmse: 1.1181 - val_root_mean_squared_error: 1.1189\n",
      "Epoch 67/100\n"
     ]
    },
    {
     "name": "stdout",
     "output_type": "stream",
     "text": [
      "293/293 [==============================] - 0s 1ms/step - loss: 1.1245 - rmse: 1.1245 - root_mean_squared_error: 1.1253 - val_loss: 1.1180 - val_rmse: 1.1181 - val_root_mean_squared_error: 1.1189\n",
      "Epoch 68/100\n",
      "293/293 [==============================] - 0s 1ms/step - loss: 1.1286 - rmse: 1.1286 - root_mean_squared_error: 1.1294 - val_loss: 1.1180 - val_rmse: 1.1180 - val_root_mean_squared_error: 1.1189\n",
      "Epoch 69/100\n",
      "293/293 [==============================] - 0s 1ms/step - loss: 1.1259 - rmse: 1.1259 - root_mean_squared_error: 1.1270 - val_loss: 1.1180 - val_rmse: 1.1180 - val_root_mean_squared_error: 1.1188\n",
      "Epoch 70/100\n",
      "293/293 [==============================] - 0s 1ms/step - loss: 1.1241 - rmse: 1.1241 - root_mean_squared_error: 1.1250 - val_loss: 1.1179 - val_rmse: 1.1179 - val_root_mean_squared_error: 1.1188\n",
      "Epoch 71/100\n",
      "293/293 [==============================] - 0s 1ms/step - loss: 1.1284 - rmse: 1.1284 - root_mean_squared_error: 1.1294 - val_loss: 1.1180 - val_rmse: 1.1180 - val_root_mean_squared_error: 1.1188\n",
      "Epoch 72/100\n",
      "293/293 [==============================] - 0s 1ms/step - loss: 1.1303 - rmse: 1.1303 - root_mean_squared_error: 1.1310 - val_loss: 1.1181 - val_rmse: 1.1181 - val_root_mean_squared_error: 1.1189\n",
      "Epoch 73/100\n",
      "293/293 [==============================] - 0s 1ms/step - loss: 1.1277 - rmse: 1.1277 - root_mean_squared_error: 1.1286 - val_loss: 1.1180 - val_rmse: 1.1180 - val_root_mean_squared_error: 1.1188\n",
      "Epoch 74/100\n",
      "293/293 [==============================] - 0s 1ms/step - loss: 1.1293 - rmse: 1.1293 - root_mean_squared_error: 1.1302 - val_loss: 1.1181 - val_rmse: 1.1181 - val_root_mean_squared_error: 1.1190\n",
      "Epoch 75/100\n",
      "293/293 [==============================] - 0s 1ms/step - loss: 1.1272 - rmse: 1.1272 - root_mean_squared_error: 1.1283 - val_loss: 1.1179 - val_rmse: 1.1179 - val_root_mean_squared_error: 1.1188\n",
      "Epoch 76/100\n",
      "293/293 [==============================] - 0s 1ms/step - loss: 1.1296 - rmse: 1.1296 - root_mean_squared_error: 1.1306 - val_loss: 1.1180 - val_rmse: 1.1180 - val_root_mean_squared_error: 1.1188\n",
      "Epoch 77/100\n",
      "293/293 [==============================] - 0s 1ms/step - loss: 1.1274 - rmse: 1.1274 - root_mean_squared_error: 1.1283 - val_loss: 1.1180 - val_rmse: 1.1180 - val_root_mean_squared_error: 1.1188\n",
      "Epoch 78/100\n",
      "293/293 [==============================] - 0s 1ms/step - loss: 1.1249 - rmse: 1.1249 - root_mean_squared_error: 1.1258 - val_loss: 1.1179 - val_rmse: 1.1180 - val_root_mean_squared_error: 1.1188\n",
      "Epoch 79/100\n",
      "293/293 [==============================] - 0s 1ms/step - loss: 1.1275 - rmse: 1.1275 - root_mean_squared_error: 1.1285 - val_loss: 1.1180 - val_rmse: 1.1180 - val_root_mean_squared_error: 1.1188\n",
      "Epoch 80/100\n",
      "293/293 [==============================] - 0s 1ms/step - loss: 1.1237 - rmse: 1.1237 - root_mean_squared_error: 1.1246 - val_loss: 1.1180 - val_rmse: 1.1180 - val_root_mean_squared_error: 1.1188\n",
      "Epoch 81/100\n",
      "293/293 [==============================] - 0s 1ms/step - loss: 1.1265 - rmse: 1.1265 - root_mean_squared_error: 1.1273 - val_loss: 1.1179 - val_rmse: 1.1180 - val_root_mean_squared_error: 1.1188\n",
      "Epoch 82/100\n",
      "293/293 [==============================] - 0s 1ms/step - loss: 1.1244 - rmse: 1.1244 - root_mean_squared_error: 1.1252 - val_loss: 1.1180 - val_rmse: 1.1180 - val_root_mean_squared_error: 1.1188\n",
      "Epoch 83/100\n",
      "293/293 [==============================] - 0s 1ms/step - loss: 1.1227 - rmse: 1.1227 - root_mean_squared_error: 1.1235 - val_loss: 1.1179 - val_rmse: 1.1180 - val_root_mean_squared_error: 1.1188\n",
      "Epoch 84/100\n",
      "293/293 [==============================] - 0s 1ms/step - loss: 1.1282 - rmse: 1.1282 - root_mean_squared_error: 1.1291 - val_loss: 1.1180 - val_rmse: 1.1180 - val_root_mean_squared_error: 1.1188\n",
      "Epoch 85/100\n",
      "293/293 [==============================] - 0s 1ms/step - loss: 1.1214 - rmse: 1.1214 - root_mean_squared_error: 1.1223 - val_loss: 1.1181 - val_rmse: 1.1181 - val_root_mean_squared_error: 1.1189\n",
      "Epoch 86/100\n",
      "293/293 [==============================] - 0s 1ms/step - loss: 1.1262 - rmse: 1.1262 - root_mean_squared_error: 1.1271 - val_loss: 1.1179 - val_rmse: 1.1180 - val_root_mean_squared_error: 1.1188\n",
      "Epoch 87/100\n",
      "293/293 [==============================] - 0s 1ms/step - loss: 1.1268 - rmse: 1.1268 - root_mean_squared_error: 1.1275 - val_loss: 1.1180 - val_rmse: 1.1180 - val_root_mean_squared_error: 1.1188\n",
      "Epoch 88/100\n",
      "293/293 [==============================] - 0s 1ms/step - loss: 1.1279 - rmse: 1.1279 - root_mean_squared_error: 1.1288 - val_loss: 1.1180 - val_rmse: 1.1180 - val_root_mean_squared_error: 1.1188\n",
      "Epoch 89/100\n",
      "293/293 [==============================] - 0s 1ms/step - loss: 1.1281 - rmse: 1.1281 - root_mean_squared_error: 1.1291 - val_loss: 1.1180 - val_rmse: 1.1180 - val_root_mean_squared_error: 1.1188\n",
      "Epoch 90/100\n",
      "293/293 [==============================] - 0s 1ms/step - loss: 1.1255 - rmse: 1.1255 - root_mean_squared_error: 1.1265 - val_loss: 1.1180 - val_rmse: 1.1180 - val_root_mean_squared_error: 1.1188\n",
      "Epoch 91/100\n",
      "293/293 [==============================] - 0s 1ms/step - loss: 1.1250 - rmse: 1.1250 - root_mean_squared_error: 1.1258 - val_loss: 1.1181 - val_rmse: 1.1181 - val_root_mean_squared_error: 1.1189\n",
      "Epoch 92/100\n",
      "293/293 [==============================] - 0s 1ms/step - loss: 1.1239 - rmse: 1.1239 - root_mean_squared_error: 1.1248 - val_loss: 1.1179 - val_rmse: 1.1180 - val_root_mean_squared_error: 1.1188\n",
      "Epoch 93/100\n",
      "293/293 [==============================] - 0s 1ms/step - loss: 1.1327 - rmse: 1.1327 - root_mean_squared_error: 1.1336 - val_loss: 1.1180 - val_rmse: 1.1180 - val_root_mean_squared_error: 1.1188\n",
      "Epoch 94/100\n",
      "293/293 [==============================] - 0s 1ms/step - loss: 1.1250 - rmse: 1.1250 - root_mean_squared_error: 1.1258 - val_loss: 1.1181 - val_rmse: 1.1181 - val_root_mean_squared_error: 1.1190\n",
      "Epoch 95/100\n",
      "293/293 [==============================] - 0s 1ms/step - loss: 1.1274 - rmse: 1.1274 - root_mean_squared_error: 1.1283 - val_loss: 1.1180 - val_rmse: 1.1180 - val_root_mean_squared_error: 1.1188\n",
      "Epoch 96/100\n",
      "293/293 [==============================] - 0s 1ms/step - loss: 1.1287 - rmse: 1.1287 - root_mean_squared_error: 1.1296 - val_loss: 1.1179 - val_rmse: 1.1179 - val_root_mean_squared_error: 1.1188\n",
      "Epoch 97/100\n",
      "293/293 [==============================] - 0s 1ms/step - loss: 1.1262 - rmse: 1.1262 - root_mean_squared_error: 1.1270 - val_loss: 1.1179 - val_rmse: 1.1180 - val_root_mean_squared_error: 1.1188\n",
      "Epoch 98/100\n",
      "293/293 [==============================] - 0s 1ms/step - loss: 1.1260 - rmse: 1.1260 - root_mean_squared_error: 1.1269 - val_loss: 1.1180 - val_rmse: 1.1180 - val_root_mean_squared_error: 1.1188\n",
      "Epoch 99/100\n",
      "293/293 [==============================] - 0s 1ms/step - loss: 1.1237 - rmse: 1.1237 - root_mean_squared_error: 1.1244 - val_loss: 1.1179 - val_rmse: 1.1180 - val_root_mean_squared_error: 1.1188\n",
      "Epoch 100/100\n",
      "293/293 [==============================] - 0s 1ms/step - loss: 1.1278 - rmse: 1.1278 - root_mean_squared_error: 1.1288 - val_loss: 1.1179 - val_rmse: 1.1180 - val_root_mean_squared_error: 1.1188\n"
     ]
    },
    {
     "data": {
      "text/plain": [
       "<__main__.OneLayerNeuralNetwork_Recommender at 0x7fd311c77990>"
      ]
     },
     "execution_count": 42,
     "metadata": {},
     "output_type": "execute_result"
    }
   ],
   "source": [
    "olnnr.train(ratings)"
   ]
  },
  {
   "cell_type": "code",
   "execution_count": 43,
   "metadata": {},
   "outputs": [
    {
     "data": {
      "text/plain": [
       "3.528151376628913"
      ]
     },
     "execution_count": 43,
     "metadata": {},
     "output_type": "execute_result"
    }
   ],
   "source": [
    "olnnr.rate('1', '947')"
   ]
  },
  {
   "cell_type": "code",
   "execution_count": 44,
   "metadata": {},
   "outputs": [
    {
     "name": "stdout",
     "output_type": "stream",
     "text": [
      "OneLayerNeuralNetwork_Recommender recommend start.\n"
     ]
    },
    {
     "data": {
      "text/plain": [
       "['999', '372', '350', '818', '349', '348', '347', '346', '345', '344']"
      ]
     },
     "execution_count": 44,
     "metadata": {},
     "output_type": "execute_result"
    }
   ],
   "source": [
    "olnnr.recommend('1', 10)"
   ]
  },
  {
   "cell_type": "code",
   "execution_count": 45,
   "metadata": {},
   "outputs": [],
   "source": [
    "class DeepNeuralNetwork_Recommender(Baseline_Recommender):\n",
    "    \n",
    "    def __init__(self, K=200, epochs=100, batch_size=256):\n",
    "        self.K = K\n",
    "        self.epochs = epochs\n",
    "        self.batch_size = batch_size\n",
    "\n",
    "    def train(self, X):\n",
    "        super().train(X)\n",
    "        self.user_to_idx = defaultdict(int)\n",
    "        self.item_to_idx = defaultdict(int)\n",
    "        \n",
    "        def mapper(x, dict_val):\n",
    "            if not dict_val[x]:\n",
    "                dict_val[x] = len(dict_val)\n",
    "                \n",
    "        self.ratings.user.apply(mapper, args=(self.user_to_idx,))\n",
    "        self.ratings.item.apply(mapper, args=(self.item_to_idx,))\n",
    "        \n",
    "        self.ratings.user = self.ratings.user.apply(lambda x: self.user_to_idx[x])\n",
    "        self.ratings.item = self.ratings.item.apply(lambda x: self.item_to_idx[x])\n",
    "        M = self.ratings.user.unique().size + 1\n",
    "        N = self.ratings.item.unique().size + 1\n",
    "        self.mu = self.ratings.rate.mean()\n",
    "        \n",
    "        user = Input(shape=(1,), name='UserInput')\n",
    "        item = Input(shape=(1,), name='ItemInput')\n",
    "        \n",
    "        P_embedding = Embedding(M, self.K, embeddings_regularizer=l2(), name='P')(user)\n",
    "        Q_embedding = Embedding(N, self.K, embeddings_regularizer=l2(), name='Q')(item)\n",
    "        user_bias = Embedding(M, 1, embeddings_regularizer=l2(), name='UserBias')(user)\n",
    "        item_bias = Embedding(N, 1, embeddings_regularizer=l2(), name='ItemBias')(item)\n",
    "        \n",
    "        P_flat = Flatten(name='P_flat')(P_embedding)\n",
    "        Q_flat = Flatten(name='Q_falt')(Q_embedding)\n",
    "        user_bias_flat = Flatten(name='UserBias_flat')(user_bias)\n",
    "        item_bias_flat = Flatten(name='ItemBias_flat')(item_bias)\n",
    "        \n",
    "        R = Concatenate(name='R_concat')([P_flat, Q_flat, user_bias_flat, item_bias_flat])\n",
    "        \n",
    "        for emb in [2048, 512, 128, 1]:\n",
    "            R = Dense(emb)(R)\n",
    "            R = Activation('linear')(R) if emb != 1 else R\n",
    "            \n",
    "        self.model = Model(inputs=[user, item], outputs=R)\n",
    "        self.model.compile(loss=self.rmse,\n",
    "                           optimizer=SGD(),\n",
    "                           metrics=[self.rmse, RootMeanSquaredError()])\n",
    "        self.model.summary()\n",
    "        \n",
    "        self.model.fit(\n",
    "            x=[self.ratings.user.values, self.ratings.item.values],\n",
    "            y=self.ratings.rate - self.mu,\n",
    "            epochs=self.epochs,\n",
    "            batch_size=self.batch_size,\n",
    "            validation_split=0.25\n",
    "        )\n",
    "        \n",
    "        self.R = R\n",
    "        \n",
    "        return self\n",
    "    \n",
    "    @staticmethod\n",
    "    def rmse(y_true, y_pred):\n",
    "        return tf.sqrt(tf.reduce_mean(tf.square(y_true - y_pred)))\n",
    "    \n",
    "    def save(self, name):\n",
    "        self.model.save(name)\n"
   ]
  },
  {
   "cell_type": "code",
   "execution_count": 46,
   "metadata": {},
   "outputs": [],
   "source": [
    "dnnr = DeepNeuralNetwork_Recommender()"
   ]
  },
  {
   "cell_type": "code",
   "execution_count": 47,
   "metadata": {
    "scrolled": false
   },
   "outputs": [
    {
     "name": "stdout",
     "output_type": "stream",
     "text": [
      "DeepNeuralNetwork_Recommender train start.\n",
      "Model: \"model_1\"\n",
      "__________________________________________________________________________________________________\n",
      "Layer (type)                    Output Shape         Param #     Connected to                     \n",
      "==================================================================================================\n",
      "UserInput (InputLayer)          [(None, 1)]          0                                            \n",
      "__________________________________________________________________________________________________\n",
      "ItemInput (InputLayer)          [(None, 1)]          0                                            \n",
      "__________________________________________________________________________________________________\n",
      "P (Embedding)                   (None, 1, 200)       188800      UserInput[0][0]                  \n",
      "__________________________________________________________________________________________________\n",
      "Q (Embedding)                   (None, 1, 200)       336600      ItemInput[0][0]                  \n",
      "__________________________________________________________________________________________________\n",
      "UserBias (Embedding)            (None, 1, 1)         944         UserInput[0][0]                  \n",
      "__________________________________________________________________________________________________\n",
      "ItemBias (Embedding)            (None, 1, 1)         1683        ItemInput[0][0]                  \n",
      "__________________________________________________________________________________________________\n",
      "P_flat (Flatten)                (None, 200)          0           P[0][0]                          \n",
      "__________________________________________________________________________________________________\n",
      "Q_falt (Flatten)                (None, 200)          0           Q[0][0]                          \n",
      "__________________________________________________________________________________________________\n",
      "UserBias_flat (Flatten)         (None, 1)            0           UserBias[0][0]                   \n",
      "__________________________________________________________________________________________________\n",
      "ItemBias_flat (Flatten)         (None, 1)            0           ItemBias[0][0]                   \n",
      "__________________________________________________________________________________________________\n",
      "R_concat (Concatenate)          (None, 402)          0           P_flat[0][0]                     \n",
      "                                                                 Q_falt[0][0]                     \n",
      "                                                                 UserBias_flat[0][0]              \n",
      "                                                                 ItemBias_flat[0][0]              \n",
      "__________________________________________________________________________________________________\n",
      "dense (Dense)                   (None, 2048)         825344      R_concat[0][0]                   \n",
      "__________________________________________________________________________________________________\n",
      "activation (Activation)         (None, 2048)         0           dense[0][0]                      \n",
      "__________________________________________________________________________________________________\n",
      "dense_1 (Dense)                 (None, 512)          1049088     activation[0][0]                 \n",
      "__________________________________________________________________________________________________\n",
      "activation_1 (Activation)       (None, 512)          0           dense_1[0][0]                    \n",
      "__________________________________________________________________________________________________\n",
      "dense_2 (Dense)                 (None, 128)          65664       activation_1[0][0]               \n",
      "__________________________________________________________________________________________________\n",
      "activation_2 (Activation)       (None, 128)          0           dense_2[0][0]                    \n",
      "__________________________________________________________________________________________________\n",
      "dense_3 (Dense)                 (None, 1)            129         activation_2[0][0]               \n",
      "==================================================================================================\n",
      "Total params: 2,468,252\n",
      "Trainable params: 2,468,252\n",
      "Non-trainable params: 0\n",
      "__________________________________________________________________________________________________\n",
      "Epoch 1/100\n",
      "293/293 [==============================] - 7s 21ms/step - loss: 5.4015 - rmse: 1.1240 - root_mean_squared_error: 1.1249 - val_loss: 5.0299 - val_rmse: 1.1136 - val_root_mean_squared_error: 1.1145\n",
      "Epoch 2/100\n",
      "293/293 [==============================] - 6s 20ms/step - loss: 4.9219 - rmse: 1.1173 - root_mean_squared_error: 1.1180 - val_loss: 4.5913 - val_rmse: 1.1077 - val_root_mean_squared_error: 1.1085\n",
      "Epoch 3/100\n",
      "293/293 [==============================] - 6s 19ms/step - loss: 4.4956 - rmse: 1.1112 - root_mean_squared_error: 1.1120 - val_loss: 4.2005 - val_rmse: 1.1014 - val_root_mean_squared_error: 1.1022\n",
      "Epoch 4/100\n",
      "293/293 [==============================] - 6s 20ms/step - loss: 4.1121 - rmse: 1.1010 - root_mean_squared_error: 1.1018 - val_loss: 3.8484 - val_rmse: 1.0906 - val_root_mean_squared_error: 1.0914\n",
      "Epoch 5/100\n",
      "293/293 [==============================] - 6s 20ms/step - loss: 3.7669 - rmse: 1.0874 - root_mean_squared_error: 1.0881 - val_loss: 3.5299 - val_rmse: 1.0751 - val_root_mean_squared_error: 1.0760\n",
      "Epoch 6/100\n",
      "293/293 [==============================] - 6s 20ms/step - loss: 3.4524 - rmse: 1.0671 - root_mean_squared_error: 1.0679 - val_loss: 3.2398 - val_rmse: 1.0540 - val_root_mean_squared_error: 1.0549\n",
      "Epoch 7/100\n",
      "293/293 [==============================] - 6s 20ms/step - loss: 3.1673 - rmse: 1.0431 - root_mean_squared_error: 1.0441 - val_loss: 2.9761 - val_rmse: 1.0292 - val_root_mean_squared_error: 1.0301\n",
      "Epoch 8/100\n",
      "293/293 [==============================] - 6s 19ms/step - loss: 2.9029 - rmse: 1.0107 - root_mean_squared_error: 1.0116 - val_loss: 2.7400 - val_rmse: 1.0057 - val_root_mean_squared_error: 1.0067\n",
      "Epoch 9/100\n",
      "293/293 [==============================] - 6s 19ms/step - loss: 2.6735 - rmse: 0.9879 - root_mean_squared_error: 0.9889 - val_loss: 2.5322 - val_rmse: 0.9873 - val_root_mean_squared_error: 0.9883\n",
      "Epoch 10/100\n",
      "293/293 [==============================] - 6s 19ms/step - loss: 2.4759 - rmse: 0.9745 - root_mean_squared_error: 0.9754 - val_loss: 2.3532 - val_rmse: 0.9771 - val_root_mean_squared_error: 0.9782\n",
      "Epoch 11/100\n",
      "293/293 [==============================] - 6s 19ms/step - loss: 2.3018 - rmse: 0.9644 - root_mean_squared_error: 0.9652 - val_loss: 2.1895 - val_rmse: 0.9638 - val_root_mean_squared_error: 0.9648\n",
      "Epoch 12/100\n",
      "293/293 [==============================] - 6s 19ms/step - loss: 2.1372 - rmse: 0.9459 - root_mean_squared_error: 0.9470 - val_loss: 2.0485 - val_rmse: 0.9567 - val_root_mean_squared_error: 0.9577\n",
      "Epoch 13/100\n",
      "293/293 [==============================] - 6s 20ms/step - loss: 2.0092 - rmse: 0.9480 - root_mean_squared_error: 0.9489 - val_loss: 1.9242 - val_rmse: 0.9515 - val_root_mean_squared_error: 0.9524\n",
      "Epoch 14/100\n",
      "293/293 [==============================] - 6s 20ms/step - loss: 1.8862 - rmse: 0.9407 - root_mean_squared_error: 0.9416 - val_loss: 1.8204 - val_rmse: 0.9537 - val_root_mean_squared_error: 0.9545\n",
      "Epoch 15/100\n",
      "293/293 [==============================] - 6s 20ms/step - loss: 1.7757 - rmse: 0.9332 - root_mean_squared_error: 0.9341 - val_loss: 1.7179 - val_rmse: 0.9454 - val_root_mean_squared_error: 0.9463\n",
      "Epoch 16/100\n",
      "293/293 [==============================] - 6s 19ms/step - loss: 1.6781 - rmse: 0.9271 - root_mean_squared_error: 0.9281 - val_loss: 1.6436 - val_rmse: 0.9551 - val_root_mean_squared_error: 0.9562\n",
      "Epoch 17/100\n",
      "293/293 [==============================] - 6s 20ms/step - loss: 1.6028 - rmse: 0.9334 - root_mean_squared_error: 0.9344 - val_loss: 1.5545 - val_rmse: 0.9407 - val_root_mean_squared_error: 0.9415\n",
      "Epoch 18/100\n",
      "293/293 [==============================] - 6s 19ms/step - loss: 1.5291 - rmse: 0.9322 - root_mean_squared_error: 0.9332 - val_loss: 1.4867 - val_rmse: 0.9394 - val_root_mean_squared_error: 0.9403\n",
      "Epoch 19/100\n"
     ]
    },
    {
     "name": "stdout",
     "output_type": "stream",
     "text": [
      "293/293 [==============================] - 6s 19ms/step - loss: 1.4662 - rmse: 0.9339 - root_mean_squared_error: 0.9347 - val_loss: 1.4355 - val_rmse: 0.9472 - val_root_mean_squared_error: 0.9480\n",
      "Epoch 20/100\n",
      "293/293 [==============================] - 6s 19ms/step - loss: 1.4065 - rmse: 0.9316 - root_mean_squared_error: 0.9326 - val_loss: 1.3916 - val_rmse: 0.9559 - val_root_mean_squared_error: 0.9570\n",
      "Epoch 21/100\n",
      "293/293 [==============================] - 6s 19ms/step - loss: 1.3575 - rmse: 0.9337 - root_mean_squared_error: 0.9349 - val_loss: 1.3277 - val_rmse: 0.9388 - val_root_mean_squared_error: 0.9398\n",
      "Epoch 22/100\n",
      "293/293 [==============================] - 6s 19ms/step - loss: 1.3073 - rmse: 0.9289 - root_mean_squared_error: 0.9300 - val_loss: 1.2845 - val_rmse: 0.9373 - val_root_mean_squared_error: 0.9381\n",
      "Epoch 23/100\n",
      "293/293 [==============================] - 6s 19ms/step - loss: 1.2729 - rmse: 0.9350 - root_mean_squared_error: 0.9361 - val_loss: 1.2531 - val_rmse: 0.9428 - val_root_mean_squared_error: 0.9436\n",
      "Epoch 24/100\n",
      "293/293 [==============================] - 6s 19ms/step - loss: 1.2284 - rmse: 0.9265 - root_mean_squared_error: 0.9272 - val_loss: 1.2163 - val_rmse: 0.9389 - val_root_mean_squared_error: 0.9399\n",
      "Epoch 25/100\n",
      "293/293 [==============================] - 6s 19ms/step - loss: 1.1944 - rmse: 0.9244 - root_mean_squared_error: 0.9254 - val_loss: 1.1905 - val_rmse: 0.9424 - val_root_mean_squared_error: 0.9434\n",
      "Epoch 26/100\n",
      "293/293 [==============================] - 6s 19ms/step - loss: 1.1708 - rmse: 0.9293 - root_mean_squared_error: 0.9305 - val_loss: 1.1619 - val_rmse: 0.9399 - val_root_mean_squared_error: 0.9409\n",
      "Epoch 27/100\n",
      "293/293 [==============================] - 6s 20ms/step - loss: 1.1419 - rmse: 0.9256 - root_mean_squared_error: 0.9266 - val_loss: 1.1361 - val_rmse: 0.9373 - val_root_mean_squared_error: 0.9382\n",
      "Epoch 28/100\n",
      "293/293 [==============================] - 6s 19ms/step - loss: 1.1266 - rmse: 0.9329 - root_mean_squared_error: 0.9340 - val_loss: 1.1195 - val_rmse: 0.9413 - val_root_mean_squared_error: 0.9423\n",
      "Epoch 29/100\n",
      "293/293 [==============================] - 6s 19ms/step - loss: 1.1031 - rmse: 0.9293 - root_mean_squared_error: 0.9303 - val_loss: 1.1100 - val_rmse: 0.9501 - val_root_mean_squared_error: 0.9512\n",
      "Epoch 30/100\n",
      "293/293 [==============================] - 6s 19ms/step - loss: 1.0850 - rmse: 0.9291 - root_mean_squared_error: 0.9303 - val_loss: 1.0807 - val_rmse: 0.9372 - val_root_mean_squared_error: 0.9381\n",
      "Epoch 31/100\n",
      "293/293 [==============================] - 6s 19ms/step - loss: 1.0648 - rmse: 0.9246 - root_mean_squared_error: 0.9256 - val_loss: 1.0956 - val_rmse: 0.9665 - val_root_mean_squared_error: 0.9677\n",
      "Epoch 32/100\n",
      "293/293 [==============================] - 6s 20ms/step - loss: 1.0569 - rmse: 0.9308 - root_mean_squared_error: 0.9320 - val_loss: 1.0711 - val_rmse: 0.9548 - val_root_mean_squared_error: 0.9559\n",
      "Epoch 33/100\n",
      "293/293 [==============================] - 6s 19ms/step - loss: 1.0450 - rmse: 0.9314 - root_mean_squared_error: 0.9323 - val_loss: 1.0426 - val_rmse: 0.9378 - val_root_mean_squared_error: 0.9387\n",
      "Epoch 34/100\n",
      "293/293 [==============================] - 8s 26ms/step - loss: 1.0337 - rmse: 0.9313 - root_mean_squared_error: 0.9325 - val_loss: 1.0349 - val_rmse: 0.9403 - val_root_mean_squared_error: 0.9413\n",
      "Epoch 35/100\n",
      "293/293 [==============================] - 6s 20ms/step - loss: 1.0205 - rmse: 0.9280 - root_mean_squared_error: 0.9290 - val_loss: 1.0285 - val_rmse: 0.9430 - val_root_mean_squared_error: 0.9438\n",
      "Epoch 36/100\n",
      "293/293 [==============================] - 6s 20ms/step - loss: 1.0152 - rmse: 0.9315 - root_mean_squared_error: 0.9326 - val_loss: 1.0144 - val_rmse: 0.9368 - val_root_mean_squared_error: 0.9377\n",
      "Epoch 37/100\n",
      "293/293 [==============================] - 6s 20ms/step - loss: 1.0070 - rmse: 0.9311 - root_mean_squared_error: 0.9322 - val_loss: 1.0065 - val_rmse: 0.9362 - val_root_mean_squared_error: 0.9371\n",
      "Epoch 38/100\n",
      "293/293 [==============================] - 6s 20ms/step - loss: 0.9946 - rmse: 0.9257 - root_mean_squared_error: 0.9266 - val_loss: 1.0129 - val_rmse: 0.9491 - val_root_mean_squared_error: 0.9499\n",
      "Epoch 39/100\n",
      "293/293 [==============================] - 6s 20ms/step - loss: 0.9862 - rmse: 0.9236 - root_mean_squared_error: 0.9245 - val_loss: 0.9968 - val_rmse: 0.9387 - val_root_mean_squared_error: 0.9396\n",
      "Epoch 40/100\n",
      "293/293 [==============================] - 6s 20ms/step - loss: 0.9848 - rmse: 0.9277 - root_mean_squared_error: 0.9288 - val_loss: 1.0004 - val_rmse: 0.9474 - val_root_mean_squared_error: 0.9481\n",
      "Epoch 41/100\n",
      "293/293 [==============================] - 6s 20ms/step - loss: 0.9802 - rmse: 0.9281 - root_mean_squared_error: 0.9292 - val_loss: 0.9979 - val_rmse: 0.9494 - val_root_mean_squared_error: 0.9502\n",
      "Epoch 42/100\n",
      "293/293 [==============================] - 6s 21ms/step - loss: 0.9747 - rmse: 0.9270 - root_mean_squared_error: 0.9281 - val_loss: 0.9823 - val_rmse: 0.9378 - val_root_mean_squared_error: 0.9387\n",
      "Epoch 43/100\n",
      "293/293 [==============================] - 6s 20ms/step - loss: 0.9686 - rmse: 0.9247 - root_mean_squared_error: 0.9257 - val_loss: 0.9811 - val_rmse: 0.9402 - val_root_mean_squared_error: 0.9410\n",
      "Epoch 44/100\n",
      "293/293 [==============================] - 6s 21ms/step - loss: 0.9669 - rmse: 0.9265 - root_mean_squared_error: 0.9278 - val_loss: 0.9750 - val_rmse: 0.9373 - val_root_mean_squared_error: 0.9382\n",
      "Epoch 45/100\n",
      "293/293 [==============================] - 6s 21ms/step - loss: 0.9607 - rmse: 0.9234 - root_mean_squared_error: 0.9246 - val_loss: 0.9846 - val_rmse: 0.9497 - val_root_mean_squared_error: 0.9508\n",
      "Epoch 46/100\n",
      "293/293 [==============================] - 6s 21ms/step - loss: 0.9629 - rmse: 0.9284 - root_mean_squared_error: 0.9294 - val_loss: 0.9756 - val_rmse: 0.9432 - val_root_mean_squared_error: 0.9440\n",
      "Epoch 47/100\n",
      "293/293 [==============================] - 6s 21ms/step - loss: 0.9598 - rmse: 0.9277 - root_mean_squared_error: 0.9288 - val_loss: 0.9677 - val_rmse: 0.9375 - val_root_mean_squared_error: 0.9383\n",
      "Epoch 48/100\n",
      "293/293 [==============================] - 6s 21ms/step - loss: 0.9574 - rmse: 0.9275 - root_mean_squared_error: 0.9285 - val_loss: 0.9737 - val_rmse: 0.9455 - val_root_mean_squared_error: 0.9463\n",
      "Epoch 49/100\n",
      "293/293 [==============================] - 6s 21ms/step - loss: 0.9575 - rmse: 0.9296 - root_mean_squared_error: 0.9307 - val_loss: 0.9679 - val_rmse: 0.9415 - val_root_mean_squared_error: 0.9425\n",
      "Epoch 50/100\n",
      "293/293 [==============================] - 6s 21ms/step - loss: 0.9572 - rmse: 0.9310 - root_mean_squared_error: 0.9320 - val_loss: 0.9659 - val_rmse: 0.9411 - val_root_mean_squared_error: 0.9421\n",
      "Epoch 51/100\n",
      "293/293 [==============================] - 6s 21ms/step - loss: 0.9528 - rmse: 0.9282 - root_mean_squared_error: 0.9291 - val_loss: 0.9635 - val_rmse: 0.9402 - val_root_mean_squared_error: 0.9410\n",
      "Epoch 52/100\n",
      "293/293 [==============================] - 6s 21ms/step - loss: 0.9531 - rmse: 0.9299 - root_mean_squared_error: 0.9309 - val_loss: 0.9709 - val_rmse: 0.9489 - val_root_mean_squared_error: 0.9497\n",
      "Epoch 53/100\n",
      "293/293 [==============================] - 6s 21ms/step - loss: 0.9523 - rmse: 0.9303 - root_mean_squared_error: 0.9314 - val_loss: 0.9581 - val_rmse: 0.9371 - val_root_mean_squared_error: 0.9380\n",
      "Epoch 54/100\n",
      "293/293 [==============================] - 6s 21ms/step - loss: 0.9478 - rmse: 0.9268 - root_mean_squared_error: 0.9281 - val_loss: 0.9587 - val_rmse: 0.9387 - val_root_mean_squared_error: 0.9395\n",
      "Epoch 55/100\n",
      "293/293 [==============================] - 6s 22ms/step - loss: 0.9407 - rmse: 0.9207 - root_mean_squared_error: 0.9218 - val_loss: 0.9573 - val_rmse: 0.9383 - val_root_mean_squared_error: 0.9392\n",
      "Epoch 56/100\n",
      "293/293 [==============================] - 6s 21ms/step - loss: 0.9469 - rmse: 0.9279 - root_mean_squared_error: 0.9291 - val_loss: 0.9626 - val_rmse: 0.9442 - val_root_mean_squared_error: 0.9452\n",
      "Epoch 57/100\n",
      "293/293 [==============================] - 6s 21ms/step - loss: 0.9461 - rmse: 0.9277 - root_mean_squared_error: 0.9288 - val_loss: 0.9706 - val_rmse: 0.9531 - val_root_mean_squared_error: 0.9539\n",
      "Epoch 58/100\n"
     ]
    },
    {
     "name": "stdout",
     "output_type": "stream",
     "text": [
      "293/293 [==============================] - 6s 19ms/step - loss: 0.9431 - rmse: 0.9255 - root_mean_squared_error: 0.9267 - val_loss: 0.9550 - val_rmse: 0.9381 - val_root_mean_squared_error: 0.9390\n",
      "Epoch 59/100\n",
      "293/293 [==============================] - 6s 20ms/step - loss: 0.9457 - rmse: 0.9287 - root_mean_squared_error: 0.9299 - val_loss: 0.9556 - val_rmse: 0.9393 - val_root_mean_squared_error: 0.9401\n",
      "Epoch 60/100\n",
      "293/293 [==============================] - 6s 19ms/step - loss: 0.9440 - rmse: 0.9276 - root_mean_squared_error: 0.9286 - val_loss: 0.9560 - val_rmse: 0.9401 - val_root_mean_squared_error: 0.9412\n",
      "Epoch 61/100\n",
      "293/293 [==============================] - 6s 19ms/step - loss: 0.9455 - rmse: 0.9295 - root_mean_squared_error: 0.9306 - val_loss: 0.9518 - val_rmse: 0.9364 - val_root_mean_squared_error: 0.9373\n",
      "Epoch 62/100\n",
      "293/293 [==============================] - 6s 20ms/step - loss: 0.9439 - rmse: 0.9284 - root_mean_squared_error: 0.9295 - val_loss: 0.9564 - val_rmse: 0.9415 - val_root_mean_squared_error: 0.9425\n",
      "Epoch 63/100\n",
      "293/293 [==============================] - 6s 19ms/step - loss: 0.9426 - rmse: 0.9275 - root_mean_squared_error: 0.9284 - val_loss: 0.9534 - val_rmse: 0.9388 - val_root_mean_squared_error: 0.9397\n",
      "Epoch 64/100\n",
      "293/293 [==============================] - 6s 19ms/step - loss: 0.9423 - rmse: 0.9276 - root_mean_squared_error: 0.9286 - val_loss: 0.9557 - val_rmse: 0.9414 - val_root_mean_squared_error: 0.9424\n",
      "Epoch 65/100\n",
      "293/293 [==============================] - 6s 20ms/step - loss: 0.9438 - rmse: 0.9294 - root_mean_squared_error: 0.9305 - val_loss: 0.9531 - val_rmse: 0.9390 - val_root_mean_squared_error: 0.9400\n",
      "Epoch 66/100\n",
      "293/293 [==============================] - 6s 19ms/step - loss: 0.9416 - rmse: 0.9273 - root_mean_squared_error: 0.9282 - val_loss: 0.9621 - val_rmse: 0.9483 - val_root_mean_squared_error: 0.9493\n",
      "Epoch 67/100\n",
      "293/293 [==============================] - 6s 19ms/step - loss: 0.9349 - rmse: 0.9210 - root_mean_squared_error: 0.9218 - val_loss: 0.9526 - val_rmse: 0.9392 - val_root_mean_squared_error: 0.9400\n",
      "Epoch 68/100\n",
      "293/293 [==============================] - 6s 19ms/step - loss: 0.9399 - rmse: 0.9262 - root_mean_squared_error: 0.9272 - val_loss: 0.9607 - val_rmse: 0.9474 - val_root_mean_squared_error: 0.9484\n",
      "Epoch 69/100\n",
      "293/293 [==============================] - 6s 19ms/step - loss: 0.9433 - rmse: 0.9298 - root_mean_squared_error: 0.9309 - val_loss: 0.9542 - val_rmse: 0.9411 - val_root_mean_squared_error: 0.9421\n",
      "Epoch 70/100\n",
      "293/293 [==============================] - 6s 19ms/step - loss: 0.9413 - rmse: 0.9281 - root_mean_squared_error: 0.9290 - val_loss: 0.9510 - val_rmse: 0.9381 - val_root_mean_squared_error: 0.9391\n",
      "Epoch 71/100\n",
      "293/293 [==============================] - 6s 19ms/step - loss: 0.9377 - rmse: 0.9246 - root_mean_squared_error: 0.9259 - val_loss: 0.9498 - val_rmse: 0.9371 - val_root_mean_squared_error: 0.9380\n",
      "Epoch 72/100\n",
      "293/293 [==============================] - 6s 20ms/step - loss: 0.9373 - rmse: 0.9243 - root_mean_squared_error: 0.9253 - val_loss: 0.9504 - val_rmse: 0.9379 - val_root_mean_squared_error: 0.9388\n",
      "Epoch 73/100\n",
      "293/293 [==============================] - 6s 19ms/step - loss: 0.9399 - rmse: 0.9270 - root_mean_squared_error: 0.9281 - val_loss: 0.9507 - val_rmse: 0.9382 - val_root_mean_squared_error: 0.9392\n",
      "Epoch 74/100\n",
      "293/293 [==============================] - 6s 19ms/step - loss: 0.9380 - rmse: 0.9252 - root_mean_squared_error: 0.9262 - val_loss: 0.9542 - val_rmse: 0.9418 - val_root_mean_squared_error: 0.9428\n",
      "Epoch 75/100\n",
      "293/293 [==============================] - 6s 19ms/step - loss: 0.9422 - rmse: 0.9297 - root_mean_squared_error: 0.9307 - val_loss: 1.0051 - val_rmse: 0.9928 - val_root_mean_squared_error: 0.9940\n",
      "Epoch 76/100\n",
      "293/293 [==============================] - 6s 20ms/step - loss: 0.9454 - rmse: 0.9329 - root_mean_squared_error: 0.9340 - val_loss: 0.9498 - val_rmse: 0.9376 - val_root_mean_squared_error: 0.9385\n",
      "Epoch 77/100\n",
      "293/293 [==============================] - 6s 19ms/step - loss: 0.9377 - rmse: 0.9252 - root_mean_squared_error: 0.9263 - val_loss: 0.9536 - val_rmse: 0.9415 - val_root_mean_squared_error: 0.9424\n",
      "Epoch 78/100\n",
      "293/293 [==============================] - 6s 19ms/step - loss: 0.9355 - rmse: 0.9231 - root_mean_squared_error: 0.9241 - val_loss: 0.9500 - val_rmse: 0.9380 - val_root_mean_squared_error: 0.9388\n",
      "Epoch 79/100\n",
      "293/293 [==============================] - 6s 19ms/step - loss: 0.9379 - rmse: 0.9257 - root_mean_squared_error: 0.9265 - val_loss: 0.9621 - val_rmse: 0.9501 - val_root_mean_squared_error: 0.9509\n",
      "Epoch 80/100\n",
      "293/293 [==============================] - 6s 19ms/step - loss: 0.9375 - rmse: 0.9253 - root_mean_squared_error: 0.9265 - val_loss: 0.9535 - val_rmse: 0.9416 - val_root_mean_squared_error: 0.9424\n",
      "Epoch 81/100\n",
      "293/293 [==============================] - 6s 19ms/step - loss: 0.9385 - rmse: 0.9264 - root_mean_squared_error: 0.9273 - val_loss: 0.9658 - val_rmse: 0.9539 - val_root_mean_squared_error: 0.9550\n",
      "Epoch 82/100\n",
      "293/293 [==============================] - 6s 19ms/step - loss: 0.9435 - rmse: 0.9314 - root_mean_squared_error: 0.9324 - val_loss: 0.9494 - val_rmse: 0.9376 - val_root_mean_squared_error: 0.9385\n",
      "Epoch 83/100\n",
      "293/293 [==============================] - 6s 20ms/step - loss: 0.9398 - rmse: 0.9278 - root_mean_squared_error: 0.9288 - val_loss: 0.9496 - val_rmse: 0.9378 - val_root_mean_squared_error: 0.9388\n",
      "Epoch 84/100\n",
      "293/293 [==============================] - 6s 20ms/step - loss: 0.9406 - rmse: 0.9287 - root_mean_squared_error: 0.9299 - val_loss: 0.9515 - val_rmse: 0.9398 - val_root_mean_squared_error: 0.9406\n",
      "Epoch 85/100\n",
      "293/293 [==============================] - 6s 20ms/step - loss: 0.9412 - rmse: 0.9293 - root_mean_squared_error: 0.9303 - val_loss: 0.9519 - val_rmse: 0.9403 - val_root_mean_squared_error: 0.9411\n",
      "Epoch 86/100\n",
      "293/293 [==============================] - 6s 20ms/step - loss: 0.9321 - rmse: 0.9202 - root_mean_squared_error: 0.9212 - val_loss: 0.9490 - val_rmse: 0.9375 - val_root_mean_squared_error: 0.9384\n",
      "Epoch 87/100\n",
      "293/293 [==============================] - 6s 20ms/step - loss: 0.9375 - rmse: 0.9257 - root_mean_squared_error: 0.9268 - val_loss: 0.9579 - val_rmse: 0.9464 - val_root_mean_squared_error: 0.9474\n",
      "Epoch 88/100\n",
      "293/293 [==============================] - 6s 20ms/step - loss: 0.9382 - rmse: 0.9264 - root_mean_squared_error: 0.9276 - val_loss: 0.9492 - val_rmse: 0.9378 - val_root_mean_squared_error: 0.9386\n",
      "Epoch 89/100\n",
      "293/293 [==============================] - 6s 19ms/step - loss: 0.9313 - rmse: 0.9195 - root_mean_squared_error: 0.9205 - val_loss: 0.9580 - val_rmse: 0.9465 - val_root_mean_squared_error: 0.9473\n",
      "Epoch 90/100\n",
      "293/293 [==============================] - 6s 19ms/step - loss: 0.9404 - rmse: 0.9286 - root_mean_squared_error: 0.9296 - val_loss: 0.9497 - val_rmse: 0.9382 - val_root_mean_squared_error: 0.9391\n",
      "Epoch 91/100\n",
      "293/293 [==============================] - 6s 19ms/step - loss: 0.9434 - rmse: 0.9318 - root_mean_squared_error: 0.9330 - val_loss: 0.9547 - val_rmse: 0.9432 - val_root_mean_squared_error: 0.9442\n",
      "Epoch 92/100\n",
      "293/293 [==============================] - 6s 19ms/step - loss: 0.9417 - rmse: 0.9300 - root_mean_squared_error: 0.9311 - val_loss: 0.9514 - val_rmse: 0.9399 - val_root_mean_squared_error: 0.9408\n",
      "Epoch 93/100\n",
      "293/293 [==============================] - 6s 19ms/step - loss: 0.9403 - rmse: 0.9286 - root_mean_squared_error: 0.9297 - val_loss: 0.9481 - val_rmse: 0.9366 - val_root_mean_squared_error: 0.9375\n",
      "Epoch 94/100\n",
      "293/293 [==============================] - 6s 21ms/step - loss: 0.9354 - rmse: 0.9237 - root_mean_squared_error: 0.9248 - val_loss: 0.9477 - val_rmse: 0.9362 - val_root_mean_squared_error: 0.9372\n",
      "Epoch 95/100\n",
      "293/293 [==============================] - 6s 21ms/step - loss: 0.9394 - rmse: 0.9277 - root_mean_squared_error: 0.9288 - val_loss: 0.9492 - val_rmse: 0.9378 - val_root_mean_squared_error: 0.9387\n",
      "Epoch 96/100\n",
      "293/293 [==============================] - 6s 20ms/step - loss: 0.9399 - rmse: 0.9283 - root_mean_squared_error: 0.9293 - val_loss: 0.9489 - val_rmse: 0.9375 - val_root_mean_squared_error: 0.9385\n",
      "Epoch 97/100\n"
     ]
    },
    {
     "name": "stdout",
     "output_type": "stream",
     "text": [
      "293/293 [==============================] - 6s 20ms/step - loss: 0.9356 - rmse: 0.9239 - root_mean_squared_error: 0.9248 - val_loss: 0.9487 - val_rmse: 0.9373 - val_root_mean_squared_error: 0.9382\n",
      "Epoch 98/100\n",
      "293/293 [==============================] - 6s 20ms/step - loss: 0.9380 - rmse: 0.9264 - root_mean_squared_error: 0.9271 - val_loss: 0.9551 - val_rmse: 0.9437 - val_root_mean_squared_error: 0.9445\n",
      "Epoch 99/100\n",
      "293/293 [==============================] - 6s 20ms/step - loss: 0.9344 - rmse: 0.9228 - root_mean_squared_error: 0.9239 - val_loss: 0.9493 - val_rmse: 0.9381 - val_root_mean_squared_error: 0.9390\n",
      "Epoch 100/100\n",
      "293/293 [==============================] - 6s 20ms/step - loss: 0.9407 - rmse: 0.9291 - root_mean_squared_error: 0.9302 - val_loss: 0.9488 - val_rmse: 0.9374 - val_root_mean_squared_error: 0.9384\n"
     ]
    },
    {
     "data": {
      "text/plain": [
       "<__main__.DeepNeuralNetwork_Recommender at 0x7fd31a3a9b90>"
      ]
     },
     "execution_count": 47,
     "metadata": {},
     "output_type": "execute_result"
    }
   ],
   "source": [
    "dnnr.train(ratings)"
   ]
  },
  {
   "cell_type": "code",
   "execution_count": 48,
   "metadata": {},
   "outputs": [
    {
     "data": {
      "text/plain": [
       "3.52986"
      ]
     },
     "execution_count": 48,
     "metadata": {},
     "output_type": "execute_result"
    }
   ],
   "source": [
    "dnnr.rate('1', '947')"
   ]
  },
  {
   "cell_type": "code",
   "execution_count": 49,
   "metadata": {},
   "outputs": [
    {
     "name": "stdout",
     "output_type": "stream",
     "text": [
      "DeepNeuralNetwork_Recommender recommend start.\n"
     ]
    },
    {
     "data": {
      "text/plain": [
       "['999', '372', '350', '818', '349', '348', '347', '346', '345', '344']"
      ]
     },
     "execution_count": 49,
     "metadata": {},
     "output_type": "execute_result"
    }
   ],
   "source": [
    "dnnr.recommend('1', 10)"
   ]
  },
  {
   "cell_type": "code",
   "execution_count": 50,
   "metadata": {
    "scrolled": false
   },
   "outputs": [
    {
     "name": "stdout",
     "output_type": "stream",
     "text": [
      "Baseline_Recommender train start.\n",
      "Baseline_Recommender evaluation start.\n",
      "Baseline_Recommender 1.1211813036257785\n",
      "Ubcf_Recommender train start.\n",
      "Ubcf_Recommender evaluation start.\n",
      "Ubcf_Recommender 0.9550036102729783\n",
      "Ubcf_Knn_Recommender train start.\n",
      "Ubcf_Knn_Recommender evaluation start.\n",
      "Ubcf_Knn_Recommender 0.9006918048462648\n",
      "Ubcf_Knn_Bias_Recommender train start.\n",
      "Ubcf_Knn_Bias_Recommender evaluation start.\n",
      "Ubcf_Knn_Bias_Recommender 0.8423591461215744\n",
      "Ubcf_Knn_Bias_Conf_Recommender train start.\n",
      "Ubcf_Knn_Bias_Conf_Recommender evaluation start.\n",
      "Ubcf_Knn_Bias_Conf_Recommender 0.8513291936625513\n",
      "Ibcf_Recommender train start.\n",
      "Ibcf_Recommender evaluation start.\n",
      "Ibcf_Recommender 0.976914219105312\n",
      "MF_Rrecommender train start.\n",
      "Iteration 10 : RMSE : 1.4588572006101135\n",
      "Iteration 20 : RMSE : 1.0699662510040353\n",
      "Iteration 30 : RMSE : 0.936733857040825\n",
      "Iteration 40 : RMSE : 0.8737477076739347\n",
      "Iteration 50 : RMSE : 0.8380543206841565\n",
      "Iteration 60 : RMSE : 0.8151196764524185\n",
      "Iteration 70 : RMSE : 0.798917412945806\n",
      "Iteration 80 : RMSE : 0.786588262405492\n",
      "Iteration 90 : RMSE : 0.7766386005593394\n",
      "Iteration 100 : RMSE : 0.7682160013353001\n",
      "MF_Rrecommender evaluation start.\n",
      "MF_Rrecommender 0.769151304135486\n",
      "OneLayerNeuralNetwork_Recommender train start.\n",
      "Model: \"model_2\"\n",
      "__________________________________________________________________________________________________\n",
      "Layer (type)                    Output Shape         Param #     Connected to                     \n",
      "==================================================================================================\n",
      "input_3 (InputLayer)            [(None, 1)]          0                                            \n",
      "__________________________________________________________________________________________________\n",
      "input_4 (InputLayer)            [(None, 1)]          0                                            \n",
      "__________________________________________________________________________________________________\n",
      "embedding_4 (Embedding)         (None, 1, 200)       400         input_3[0][0]                    \n",
      "__________________________________________________________________________________________________\n",
      "embedding_5 (Embedding)         (None, 1, 200)       400         input_4[0][0]                    \n",
      "__________________________________________________________________________________________________\n",
      "dot_1 (Dot)                     (None, 1, 1)         0           embedding_4[0][0]                \n",
      "                                                                 embedding_5[0][0]                \n",
      "__________________________________________________________________________________________________\n",
      "embedding_6 (Embedding)         (None, 1, 1)         2           input_3[0][0]                    \n",
      "__________________________________________________________________________________________________\n",
      "embedding_7 (Embedding)         (None, 1, 1)         2           input_4[0][0]                    \n",
      "__________________________________________________________________________________________________\n",
      "add_1 (Add)                     (None, 1, 1)         0           dot_1[0][0]                      \n",
      "                                                                 embedding_6[0][0]                \n",
      "                                                                 embedding_7[0][0]                \n",
      "__________________________________________________________________________________________________\n",
      "flatten_1 (Flatten)             (None, 1)            0           add_1[0][0]                      \n",
      "==================================================================================================\n",
      "Total params: 804\n",
      "Trainable params: 804\n",
      "Non-trainable params: 0\n",
      "__________________________________________________________________________________________________\n",
      "Epoch 1/100\n",
      "293/293 [==============================] - 1s 2ms/step - loss: 1.1326 - rmse: 1.1262 - root_mean_squared_error: 1.1272 - val_loss: 1.1237 - val_rmse: 1.1180 - val_root_mean_squared_error: 1.1188\n",
      "Epoch 2/100\n",
      "293/293 [==============================] - 0s 1ms/step - loss: 1.1296 - rmse: 1.1240 - root_mean_squared_error: 1.1248 - val_loss: 1.1231 - val_rmse: 1.1180 - val_root_mean_squared_error: 1.1188\n",
      "Epoch 3/100\n",
      "293/293 [==============================] - 0s 1ms/step - loss: 1.1380 - rmse: 1.1330 - root_mean_squared_error: 1.1338 - val_loss: 1.1226 - val_rmse: 1.1180 - val_root_mean_squared_error: 1.1189\n",
      "Epoch 4/100\n",
      "293/293 [==============================] - 0s 1ms/step - loss: 1.1280 - rmse: 1.1236 - root_mean_squared_error: 1.1245 - val_loss: 1.1220 - val_rmse: 1.1180 - val_root_mean_squared_error: 1.1188\n",
      "Epoch 5/100\n",
      "293/293 [==============================] - 0s 1ms/step - loss: 1.1298 - rmse: 1.1259 - root_mean_squared_error: 1.1267 - val_loss: 1.1216 - val_rmse: 1.1180 - val_root_mean_squared_error: 1.1188\n",
      "Epoch 6/100\n",
      "293/293 [==============================] - 0s 1ms/step - loss: 1.1260 - rmse: 1.1224 - root_mean_squared_error: 1.1235 - val_loss: 1.1212 - val_rmse: 1.1180 - val_root_mean_squared_error: 1.1188\n",
      "Epoch 7/100\n",
      "293/293 [==============================] - 0s 1ms/step - loss: 1.1317 - rmse: 1.1286 - root_mean_squared_error: 1.1296 - val_loss: 1.1209 - val_rmse: 1.1181 - val_root_mean_squared_error: 1.1189\n",
      "Epoch 8/100\n",
      "293/293 [==============================] - 0s 1ms/step - loss: 1.1288 - rmse: 1.1261 - root_mean_squared_error: 1.1270 - val_loss: 1.1206 - val_rmse: 1.1180 - val_root_mean_squared_error: 1.1188\n",
      "Epoch 9/100\n",
      "293/293 [==============================] - 0s 1ms/step - loss: 1.1264 - rmse: 1.1240 - root_mean_squared_error: 1.1247 - val_loss: 1.1202 - val_rmse: 1.1179 - val_root_mean_squared_error: 1.1187\n",
      "Epoch 10/100\n",
      "293/293 [==============================] - 0s 1ms/step - loss: 1.1293 - rmse: 1.1271 - root_mean_squared_error: 1.1281 - val_loss: 1.1200 - val_rmse: 1.1180 - val_root_mean_squared_error: 1.1188\n",
      "Epoch 11/100\n",
      "293/293 [==============================] - 0s 1ms/step - loss: 1.1325 - rmse: 1.1306 - root_mean_squared_error: 1.1314 - val_loss: 1.1198 - val_rmse: 1.1180 - val_root_mean_squared_error: 1.1188\n",
      "Epoch 12/100\n",
      "293/293 [==============================] - 0s 1ms/step - loss: 1.1317 - rmse: 1.1300 - root_mean_squared_error: 1.1309 - val_loss: 1.1196 - val_rmse: 1.1180 - val_root_mean_squared_error: 1.1188\n",
      "Epoch 13/100\n",
      "293/293 [==============================] - 0s 1ms/step - loss: 1.1255 - rmse: 1.1239 - root_mean_squared_error: 1.1247 - val_loss: 1.1194 - val_rmse: 1.1180 - val_root_mean_squared_error: 1.1188\n",
      "Epoch 14/100\n",
      "293/293 [==============================] - 0s 1ms/step - loss: 1.1277 - rmse: 1.1263 - root_mean_squared_error: 1.1271 - val_loss: 1.1193 - val_rmse: 1.1180 - val_root_mean_squared_error: 1.1188\n",
      "Epoch 15/100\n",
      "293/293 [==============================] - 0s 1ms/step - loss: 1.1282 - rmse: 1.1270 - root_mean_squared_error: 1.1279 - val_loss: 1.1192 - val_rmse: 1.1181 - val_root_mean_squared_error: 1.1189\n",
      "Epoch 16/100\n",
      "293/293 [==============================] - 0s 1ms/step - loss: 1.1248 - rmse: 1.1237 - root_mean_squared_error: 1.1246 - val_loss: 1.1191 - val_rmse: 1.1181 - val_root_mean_squared_error: 1.1189\n",
      "Epoch 17/100\n",
      "293/293 [==============================] - 0s 1ms/step - loss: 1.1313 - rmse: 1.1303 - root_mean_squared_error: 1.1311 - val_loss: 1.1189 - val_rmse: 1.1180 - val_root_mean_squared_error: 1.1189\n",
      "Epoch 18/100\n",
      "293/293 [==============================] - 0s 1ms/step - loss: 1.1276 - rmse: 1.1268 - root_mean_squared_error: 1.1275 - val_loss: 1.1187 - val_rmse: 1.1180 - val_root_mean_squared_error: 1.1188\n",
      "Epoch 19/100\n",
      "293/293 [==============================] - 0s 1ms/step - loss: 1.1350 - rmse: 1.1342 - root_mean_squared_error: 1.1351 - val_loss: 1.1187 - val_rmse: 1.1180 - val_root_mean_squared_error: 1.1188\n",
      "Epoch 20/100\n",
      "293/293 [==============================] - 0s 1ms/step - loss: 1.1276 - rmse: 1.1269 - root_mean_squared_error: 1.1276 - val_loss: 1.1187 - val_rmse: 1.1181 - val_root_mean_squared_error: 1.1189\n",
      "Epoch 21/100\n",
      "293/293 [==============================] - 0s 1ms/step - loss: 1.1272 - rmse: 1.1266 - root_mean_squared_error: 1.1274 - val_loss: 1.1185 - val_rmse: 1.1180 - val_root_mean_squared_error: 1.1188\n",
      "Epoch 22/100\n"
     ]
    },
    {
     "name": "stdout",
     "output_type": "stream",
     "text": [
      "293/293 [==============================] - 0s 1ms/step - loss: 1.1288 - rmse: 1.1283 - root_mean_squared_error: 1.1291 - val_loss: 1.1185 - val_rmse: 1.1181 - val_root_mean_squared_error: 1.1189\n",
      "Epoch 23/100\n",
      "293/293 [==============================] - 0s 1ms/step - loss: 1.1270 - rmse: 1.1265 - root_mean_squared_error: 1.1274 - val_loss: 1.1184 - val_rmse: 1.1180 - val_root_mean_squared_error: 1.1188\n",
      "Epoch 24/100\n",
      "293/293 [==============================] - 0s 1ms/step - loss: 1.1288 - rmse: 1.1284 - root_mean_squared_error: 1.1294 - val_loss: 1.1184 - val_rmse: 1.1180 - val_root_mean_squared_error: 1.1188\n",
      "Epoch 25/100\n",
      "293/293 [==============================] - 0s 1ms/step - loss: 1.1298 - rmse: 1.1294 - root_mean_squared_error: 1.1303 - val_loss: 1.1183 - val_rmse: 1.1180 - val_root_mean_squared_error: 1.1188\n",
      "Epoch 26/100\n",
      "293/293 [==============================] - 0s 1ms/step - loss: 1.1263 - rmse: 1.1260 - root_mean_squared_error: 1.1267 - val_loss: 1.1183 - val_rmse: 1.1180 - val_root_mean_squared_error: 1.1188\n",
      "Epoch 27/100\n",
      "293/293 [==============================] - 0s 1ms/step - loss: 1.1316 - rmse: 1.1313 - root_mean_squared_error: 1.1322 - val_loss: 1.1182 - val_rmse: 1.1180 - val_root_mean_squared_error: 1.1188\n",
      "Epoch 28/100\n",
      "293/293 [==============================] - 0s 1ms/step - loss: 1.1253 - rmse: 1.1250 - root_mean_squared_error: 1.1258 - val_loss: 1.1182 - val_rmse: 1.1180 - val_root_mean_squared_error: 1.1188\n",
      "Epoch 29/100\n",
      "293/293 [==============================] - 0s 1ms/step - loss: 1.1286 - rmse: 1.1284 - root_mean_squared_error: 1.1292 - val_loss: 1.1182 - val_rmse: 1.1180 - val_root_mean_squared_error: 1.1188\n",
      "Epoch 30/100\n",
      "293/293 [==============================] - 0s 1ms/step - loss: 1.1238 - rmse: 1.1236 - root_mean_squared_error: 1.1246 - val_loss: 1.1182 - val_rmse: 1.1180 - val_root_mean_squared_error: 1.1188\n",
      "Epoch 31/100\n",
      "293/293 [==============================] - 0s 1ms/step - loss: 1.1267 - rmse: 1.1265 - root_mean_squared_error: 1.1274 - val_loss: 1.1182 - val_rmse: 1.1180 - val_root_mean_squared_error: 1.1189\n",
      "Epoch 32/100\n",
      "293/293 [==============================] - 0s 1ms/step - loss: 1.1249 - rmse: 1.1247 - root_mean_squared_error: 1.1256 - val_loss: 1.1181 - val_rmse: 1.1180 - val_root_mean_squared_error: 1.1188\n",
      "Epoch 33/100\n",
      "293/293 [==============================] - 0s 1ms/step - loss: 1.1256 - rmse: 1.1254 - root_mean_squared_error: 1.1262 - val_loss: 1.1182 - val_rmse: 1.1181 - val_root_mean_squared_error: 1.1189\n",
      "Epoch 34/100\n",
      "293/293 [==============================] - 0s 1ms/step - loss: 1.1248 - rmse: 1.1246 - root_mean_squared_error: 1.1255 - val_loss: 1.1182 - val_rmse: 1.1181 - val_root_mean_squared_error: 1.1190\n",
      "Epoch 35/100\n",
      "293/293 [==============================] - 0s 1ms/step - loss: 1.1262 - rmse: 1.1261 - root_mean_squared_error: 1.1269 - val_loss: 1.1181 - val_rmse: 1.1181 - val_root_mean_squared_error: 1.1189\n",
      "Epoch 36/100\n",
      "293/293 [==============================] - 0s 1ms/step - loss: 1.1300 - rmse: 1.1299 - root_mean_squared_error: 1.1307 - val_loss: 1.1181 - val_rmse: 1.1180 - val_root_mean_squared_error: 1.1188\n",
      "Epoch 37/100\n",
      "293/293 [==============================] - 0s 1ms/step - loss: 1.1215 - rmse: 1.1214 - root_mean_squared_error: 1.1223 - val_loss: 1.1180 - val_rmse: 1.1180 - val_root_mean_squared_error: 1.1188\n",
      "Epoch 38/100\n",
      "293/293 [==============================] - 0s 1ms/step - loss: 1.1293 - rmse: 1.1292 - root_mean_squared_error: 1.1300 - val_loss: 1.1182 - val_rmse: 1.1181 - val_root_mean_squared_error: 1.1189\n",
      "Epoch 39/100\n",
      "293/293 [==============================] - 0s 1ms/step - loss: 1.1264 - rmse: 1.1264 - root_mean_squared_error: 1.1274 - val_loss: 1.1181 - val_rmse: 1.1180 - val_root_mean_squared_error: 1.1189\n",
      "Epoch 40/100\n",
      "293/293 [==============================] - 0s 1ms/step - loss: 1.1311 - rmse: 1.1310 - root_mean_squared_error: 1.1320 - val_loss: 1.1180 - val_rmse: 1.1180 - val_root_mean_squared_error: 1.1188\n",
      "Epoch 41/100\n",
      "293/293 [==============================] - 0s 1ms/step - loss: 1.1246 - rmse: 1.1246 - root_mean_squared_error: 1.1257 - val_loss: 1.1180 - val_rmse: 1.1180 - val_root_mean_squared_error: 1.1188\n",
      "Epoch 42/100\n",
      "293/293 [==============================] - 0s 1ms/step - loss: 1.1280 - rmse: 1.1280 - root_mean_squared_error: 1.1289 - val_loss: 1.1181 - val_rmse: 1.1181 - val_root_mean_squared_error: 1.1189\n",
      "Epoch 43/100\n",
      "293/293 [==============================] - 0s 1ms/step - loss: 1.1288 - rmse: 1.1288 - root_mean_squared_error: 1.1296 - val_loss: 1.1180 - val_rmse: 1.1180 - val_root_mean_squared_error: 1.1188\n",
      "Epoch 44/100\n",
      "293/293 [==============================] - 0s 1ms/step - loss: 1.1254 - rmse: 1.1254 - root_mean_squared_error: 1.1262 - val_loss: 1.1180 - val_rmse: 1.1180 - val_root_mean_squared_error: 1.1188\n",
      "Epoch 45/100\n",
      "293/293 [==============================] - 0s 1ms/step - loss: 1.1277 - rmse: 1.1276 - root_mean_squared_error: 1.1286 - val_loss: 1.1181 - val_rmse: 1.1181 - val_root_mean_squared_error: 1.1189\n",
      "Epoch 46/100\n",
      "293/293 [==============================] - 0s 1ms/step - loss: 1.1275 - rmse: 1.1275 - root_mean_squared_error: 1.1284 - val_loss: 1.1181 - val_rmse: 1.1181 - val_root_mean_squared_error: 1.1189\n",
      "Epoch 47/100\n",
      "293/293 [==============================] - 0s 1ms/step - loss: 1.1257 - rmse: 1.1257 - root_mean_squared_error: 1.1265 - val_loss: 1.1180 - val_rmse: 1.1179 - val_root_mean_squared_error: 1.1188\n",
      "Epoch 48/100\n",
      "293/293 [==============================] - 0s 1ms/step - loss: 1.1297 - rmse: 1.1297 - root_mean_squared_error: 1.1306 - val_loss: 1.1181 - val_rmse: 1.1181 - val_root_mean_squared_error: 1.1189\n",
      "Epoch 49/100\n",
      "293/293 [==============================] - 0s 1ms/step - loss: 1.1282 - rmse: 1.1282 - root_mean_squared_error: 1.1290 - val_loss: 1.1180 - val_rmse: 1.1180 - val_root_mean_squared_error: 1.1188\n",
      "Epoch 50/100\n",
      "293/293 [==============================] - 0s 1ms/step - loss: 1.1295 - rmse: 1.1295 - root_mean_squared_error: 1.1304 - val_loss: 1.1180 - val_rmse: 1.1180 - val_root_mean_squared_error: 1.1188\n",
      "Epoch 51/100\n",
      "293/293 [==============================] - 0s 1ms/step - loss: 1.1271 - rmse: 1.1271 - root_mean_squared_error: 1.1280 - val_loss: 1.1180 - val_rmse: 1.1180 - val_root_mean_squared_error: 1.1189\n",
      "Epoch 52/100\n",
      "293/293 [==============================] - 0s 1ms/step - loss: 1.1234 - rmse: 1.1234 - root_mean_squared_error: 1.1243 - val_loss: 1.1180 - val_rmse: 1.1180 - val_root_mean_squared_error: 1.1188\n",
      "Epoch 53/100\n",
      "293/293 [==============================] - 0s 1ms/step - loss: 1.1245 - rmse: 1.1245 - root_mean_squared_error: 1.1255 - val_loss: 1.1180 - val_rmse: 1.1180 - val_root_mean_squared_error: 1.1189\n",
      "Epoch 54/100\n",
      "293/293 [==============================] - 0s 1ms/step - loss: 1.1294 - rmse: 1.1294 - root_mean_squared_error: 1.1302 - val_loss: 1.1180 - val_rmse: 1.1180 - val_root_mean_squared_error: 1.1188\n",
      "Epoch 55/100\n",
      "293/293 [==============================] - 0s 1ms/step - loss: 1.1270 - rmse: 1.1270 - root_mean_squared_error: 1.1279 - val_loss: 1.1180 - val_rmse: 1.1180 - val_root_mean_squared_error: 1.1188\n",
      "Epoch 56/100\n",
      "293/293 [==============================] - 0s 1ms/step - loss: 1.1224 - rmse: 1.1224 - root_mean_squared_error: 1.1233 - val_loss: 1.1179 - val_rmse: 1.1180 - val_root_mean_squared_error: 1.1187\n",
      "Epoch 57/100\n",
      "293/293 [==============================] - 0s 1ms/step - loss: 1.1282 - rmse: 1.1282 - root_mean_squared_error: 1.1290 - val_loss: 1.1180 - val_rmse: 1.1180 - val_root_mean_squared_error: 1.1188\n",
      "Epoch 58/100\n",
      "293/293 [==============================] - 0s 1ms/step - loss: 1.1289 - rmse: 1.1289 - root_mean_squared_error: 1.1297 - val_loss: 1.1180 - val_rmse: 1.1180 - val_root_mean_squared_error: 1.1188\n",
      "Epoch 59/100\n",
      "293/293 [==============================] - 0s 1ms/step - loss: 1.1254 - rmse: 1.1254 - root_mean_squared_error: 1.1263 - val_loss: 1.1180 - val_rmse: 1.1180 - val_root_mean_squared_error: 1.1188\n",
      "Epoch 60/100\n",
      "293/293 [==============================] - 0s 1ms/step - loss: 1.1252 - rmse: 1.1252 - root_mean_squared_error: 1.1261 - val_loss: 1.1179 - val_rmse: 1.1180 - val_root_mean_squared_error: 1.1188\n",
      "Epoch 61/100\n"
     ]
    },
    {
     "name": "stdout",
     "output_type": "stream",
     "text": [
      "293/293 [==============================] - 0s 1ms/step - loss: 1.1252 - rmse: 1.1252 - root_mean_squared_error: 1.1262 - val_loss: 1.1179 - val_rmse: 1.1179 - val_root_mean_squared_error: 1.1188\n",
      "Epoch 62/100\n",
      "293/293 [==============================] - 0s 1ms/step - loss: 1.1273 - rmse: 1.1273 - root_mean_squared_error: 1.1280 - val_loss: 1.1180 - val_rmse: 1.1180 - val_root_mean_squared_error: 1.1189\n",
      "Epoch 63/100\n",
      "293/293 [==============================] - 0s 1ms/step - loss: 1.1300 - rmse: 1.1300 - root_mean_squared_error: 1.1309 - val_loss: 1.1179 - val_rmse: 1.1180 - val_root_mean_squared_error: 1.1188\n",
      "Epoch 64/100\n",
      "293/293 [==============================] - 0s 1ms/step - loss: 1.1274 - rmse: 1.1274 - root_mean_squared_error: 1.1283 - val_loss: 1.1180 - val_rmse: 1.1180 - val_root_mean_squared_error: 1.1189\n",
      "Epoch 65/100\n",
      "293/293 [==============================] - 0s 1ms/step - loss: 1.1257 - rmse: 1.1257 - root_mean_squared_error: 1.1264 - val_loss: 1.1179 - val_rmse: 1.1180 - val_root_mean_squared_error: 1.1188\n",
      "Epoch 66/100\n",
      "293/293 [==============================] - 0s 1ms/step - loss: 1.1243 - rmse: 1.1243 - root_mean_squared_error: 1.1251 - val_loss: 1.1180 - val_rmse: 1.1180 - val_root_mean_squared_error: 1.1189\n",
      "Epoch 67/100\n",
      "293/293 [==============================] - 0s 1ms/step - loss: 1.1304 - rmse: 1.1304 - root_mean_squared_error: 1.1314 - val_loss: 1.1181 - val_rmse: 1.1181 - val_root_mean_squared_error: 1.1190\n",
      "Epoch 68/100\n",
      "293/293 [==============================] - 0s 1ms/step - loss: 1.1264 - rmse: 1.1264 - root_mean_squared_error: 1.1272 - val_loss: 1.1180 - val_rmse: 1.1180 - val_root_mean_squared_error: 1.1189\n",
      "Epoch 69/100\n",
      "293/293 [==============================] - 0s 1ms/step - loss: 1.1296 - rmse: 1.1296 - root_mean_squared_error: 1.1305 - val_loss: 1.1181 - val_rmse: 1.1181 - val_root_mean_squared_error: 1.1189\n",
      "Epoch 70/100\n",
      "293/293 [==============================] - 0s 1ms/step - loss: 1.1282 - rmse: 1.1282 - root_mean_squared_error: 1.1290 - val_loss: 1.1181 - val_rmse: 1.1181 - val_root_mean_squared_error: 1.1189\n",
      "Epoch 71/100\n",
      "293/293 [==============================] - 0s 1ms/step - loss: 1.1286 - rmse: 1.1286 - root_mean_squared_error: 1.1296 - val_loss: 1.1180 - val_rmse: 1.1180 - val_root_mean_squared_error: 1.1189\n",
      "Epoch 72/100\n",
      "293/293 [==============================] - 0s 1ms/step - loss: 1.1271 - rmse: 1.1271 - root_mean_squared_error: 1.1280 - val_loss: 1.1180 - val_rmse: 1.1180 - val_root_mean_squared_error: 1.1188\n",
      "Epoch 73/100\n",
      "293/293 [==============================] - 0s 1ms/step - loss: 1.1262 - rmse: 1.1262 - root_mean_squared_error: 1.1270 - val_loss: 1.1180 - val_rmse: 1.1180 - val_root_mean_squared_error: 1.1189\n",
      "Epoch 74/100\n",
      "293/293 [==============================] - 0s 1ms/step - loss: 1.1272 - rmse: 1.1272 - root_mean_squared_error: 1.1280 - val_loss: 1.1180 - val_rmse: 1.1180 - val_root_mean_squared_error: 1.1188\n",
      "Epoch 75/100\n",
      "293/293 [==============================] - 0s 1ms/step - loss: 1.1270 - rmse: 1.1270 - root_mean_squared_error: 1.1277 - val_loss: 1.1180 - val_rmse: 1.1180 - val_root_mean_squared_error: 1.1188\n",
      "Epoch 76/100\n",
      "293/293 [==============================] - 0s 1ms/step - loss: 1.1292 - rmse: 1.1292 - root_mean_squared_error: 1.1301 - val_loss: 1.1180 - val_rmse: 1.1180 - val_root_mean_squared_error: 1.1188\n",
      "Epoch 77/100\n",
      "293/293 [==============================] - 0s 1ms/step - loss: 1.1254 - rmse: 1.1254 - root_mean_squared_error: 1.1262 - val_loss: 1.1180 - val_rmse: 1.1180 - val_root_mean_squared_error: 1.1188\n",
      "Epoch 78/100\n",
      "293/293 [==============================] - 0s 1ms/step - loss: 1.1222 - rmse: 1.1222 - root_mean_squared_error: 1.1231 - val_loss: 1.1181 - val_rmse: 1.1181 - val_root_mean_squared_error: 1.1189\n",
      "Epoch 79/100\n",
      "293/293 [==============================] - 0s 1ms/step - loss: 1.1267 - rmse: 1.1267 - root_mean_squared_error: 1.1274 - val_loss: 1.1180 - val_rmse: 1.1180 - val_root_mean_squared_error: 1.1188\n",
      "Epoch 80/100\n",
      "293/293 [==============================] - 0s 1ms/step - loss: 1.1282 - rmse: 1.1282 - root_mean_squared_error: 1.1291 - val_loss: 1.1180 - val_rmse: 1.1180 - val_root_mean_squared_error: 1.1188\n",
      "Epoch 81/100\n",
      "293/293 [==============================] - 0s 1ms/step - loss: 1.1310 - rmse: 1.1310 - root_mean_squared_error: 1.1318 - val_loss: 1.1180 - val_rmse: 1.1180 - val_root_mean_squared_error: 1.1188\n",
      "Epoch 82/100\n",
      "293/293 [==============================] - 0s 1ms/step - loss: 1.1243 - rmse: 1.1243 - root_mean_squared_error: 1.1252 - val_loss: 1.1180 - val_rmse: 1.1180 - val_root_mean_squared_error: 1.1188\n",
      "Epoch 83/100\n",
      "293/293 [==============================] - 0s 1ms/step - loss: 1.1301 - rmse: 1.1301 - root_mean_squared_error: 1.1309 - val_loss: 1.1180 - val_rmse: 1.1180 - val_root_mean_squared_error: 1.1188\n",
      "Epoch 84/100\n",
      "293/293 [==============================] - 0s 1ms/step - loss: 1.1279 - rmse: 1.1279 - root_mean_squared_error: 1.1288 - val_loss: 1.1180 - val_rmse: 1.1181 - val_root_mean_squared_error: 1.1189\n",
      "Epoch 85/100\n",
      "293/293 [==============================] - 0s 1ms/step - loss: 1.1295 - rmse: 1.1295 - root_mean_squared_error: 1.1303 - val_loss: 1.1179 - val_rmse: 1.1180 - val_root_mean_squared_error: 1.1188\n",
      "Epoch 86/100\n",
      "293/293 [==============================] - 0s 1ms/step - loss: 1.1279 - rmse: 1.1279 - root_mean_squared_error: 1.1286 - val_loss: 1.1181 - val_rmse: 1.1181 - val_root_mean_squared_error: 1.1189\n",
      "Epoch 87/100\n",
      "293/293 [==============================] - 0s 1ms/step - loss: 1.1278 - rmse: 1.1278 - root_mean_squared_error: 1.1289 - val_loss: 1.1180 - val_rmse: 1.1180 - val_root_mean_squared_error: 1.1188\n",
      "Epoch 88/100\n",
      "293/293 [==============================] - 0s 1ms/step - loss: 1.1237 - rmse: 1.1237 - root_mean_squared_error: 1.1246 - val_loss: 1.1179 - val_rmse: 1.1180 - val_root_mean_squared_error: 1.1187\n",
      "Epoch 89/100\n",
      "293/293 [==============================] - 0s 1ms/step - loss: 1.1253 - rmse: 1.1253 - root_mean_squared_error: 1.1261 - val_loss: 1.1179 - val_rmse: 1.1180 - val_root_mean_squared_error: 1.1188\n",
      "Epoch 90/100\n",
      "293/293 [==============================] - 0s 1ms/step - loss: 1.1269 - rmse: 1.1269 - root_mean_squared_error: 1.1279 - val_loss: 1.1180 - val_rmse: 1.1180 - val_root_mean_squared_error: 1.1188\n",
      "Epoch 91/100\n",
      "293/293 [==============================] - 0s 1ms/step - loss: 1.1290 - rmse: 1.1290 - root_mean_squared_error: 1.1298 - val_loss: 1.1180 - val_rmse: 1.1180 - val_root_mean_squared_error: 1.1188\n",
      "Epoch 92/100\n",
      "293/293 [==============================] - 0s 1ms/step - loss: 1.1223 - rmse: 1.1223 - root_mean_squared_error: 1.1234 - val_loss: 1.1180 - val_rmse: 1.1180 - val_root_mean_squared_error: 1.1188\n",
      "Epoch 93/100\n",
      "293/293 [==============================] - 0s 1ms/step - loss: 1.1303 - rmse: 1.1303 - root_mean_squared_error: 1.1311 - val_loss: 1.1179 - val_rmse: 1.1180 - val_root_mean_squared_error: 1.1188\n",
      "Epoch 94/100\n",
      "293/293 [==============================] - 0s 1ms/step - loss: 1.1232 - rmse: 1.1232 - root_mean_squared_error: 1.1241 - val_loss: 1.1181 - val_rmse: 1.1181 - val_root_mean_squared_error: 1.1189\n",
      "Epoch 95/100\n",
      "293/293 [==============================] - 0s 1ms/step - loss: 1.1300 - rmse: 1.1300 - root_mean_squared_error: 1.1310 - val_loss: 1.1180 - val_rmse: 1.1180 - val_root_mean_squared_error: 1.1188\n",
      "Epoch 96/100\n",
      "293/293 [==============================] - 0s 1ms/step - loss: 1.1273 - rmse: 1.1273 - root_mean_squared_error: 1.1282 - val_loss: 1.1180 - val_rmse: 1.1180 - val_root_mean_squared_error: 1.1188\n",
      "Epoch 97/100\n",
      "293/293 [==============================] - 0s 1ms/step - loss: 1.1221 - rmse: 1.1221 - root_mean_squared_error: 1.1231 - val_loss: 1.1179 - val_rmse: 1.1180 - val_root_mean_squared_error: 1.1188\n",
      "Epoch 98/100\n",
      "293/293 [==============================] - 0s 1ms/step - loss: 1.1262 - rmse: 1.1262 - root_mean_squared_error: 1.1270 - val_loss: 1.1180 - val_rmse: 1.1180 - val_root_mean_squared_error: 1.1188\n",
      "Epoch 99/100\n",
      "293/293 [==============================] - 0s 1ms/step - loss: 1.1260 - rmse: 1.1260 - root_mean_squared_error: 1.1268 - val_loss: 1.1180 - val_rmse: 1.1180 - val_root_mean_squared_error: 1.1189\n",
      "Epoch 100/100\n"
     ]
    },
    {
     "name": "stdout",
     "output_type": "stream",
     "text": [
      "293/293 [==============================] - 0s 1ms/step - loss: 1.1286 - rmse: 1.1286 - root_mean_squared_error: 1.1295 - val_loss: 1.1181 - val_rmse: 1.1181 - val_root_mean_squared_error: 1.1189\n",
      "OneLayerNeuralNetwork_Recommender evaluation start.\n",
      "OneLayerNeuralNetwork_Recommender tf.Tensor(1.1231194793988977, shape=(), dtype=float64)\n",
      "DeepNeuralNetwork_Recommender train start.\n",
      "Model: \"model_3\"\n",
      "__________________________________________________________________________________________________\n",
      "Layer (type)                    Output Shape         Param #     Connected to                     \n",
      "==================================================================================================\n",
      "UserInput (InputLayer)          [(None, 1)]          0                                            \n",
      "__________________________________________________________________________________________________\n",
      "ItemInput (InputLayer)          [(None, 1)]          0                                            \n",
      "__________________________________________________________________________________________________\n",
      "P (Embedding)                   (None, 1, 200)       188800      UserInput[0][0]                  \n",
      "__________________________________________________________________________________________________\n",
      "Q (Embedding)                   (None, 1, 200)       336600      ItemInput[0][0]                  \n",
      "__________________________________________________________________________________________________\n",
      "UserBias (Embedding)            (None, 1, 1)         944         UserInput[0][0]                  \n",
      "__________________________________________________________________________________________________\n",
      "ItemBias (Embedding)            (None, 1, 1)         1683        ItemInput[0][0]                  \n",
      "__________________________________________________________________________________________________\n",
      "P_flat (Flatten)                (None, 200)          0           P[0][0]                          \n",
      "__________________________________________________________________________________________________\n",
      "Q_falt (Flatten)                (None, 200)          0           Q[0][0]                          \n",
      "__________________________________________________________________________________________________\n",
      "UserBias_flat (Flatten)         (None, 1)            0           UserBias[0][0]                   \n",
      "__________________________________________________________________________________________________\n",
      "ItemBias_flat (Flatten)         (None, 1)            0           ItemBias[0][0]                   \n",
      "__________________________________________________________________________________________________\n",
      "R_concat (Concatenate)          (None, 402)          0           P_flat[0][0]                     \n",
      "                                                                 Q_falt[0][0]                     \n",
      "                                                                 UserBias_flat[0][0]              \n",
      "                                                                 ItemBias_flat[0][0]              \n",
      "__________________________________________________________________________________________________\n",
      "dense_4 (Dense)                 (None, 2048)         825344      R_concat[0][0]                   \n",
      "__________________________________________________________________________________________________\n",
      "activation_3 (Activation)       (None, 2048)         0           dense_4[0][0]                    \n",
      "__________________________________________________________________________________________________\n",
      "dense_5 (Dense)                 (None, 512)          1049088     activation_3[0][0]               \n",
      "__________________________________________________________________________________________________\n",
      "activation_4 (Activation)       (None, 512)          0           dense_5[0][0]                    \n",
      "__________________________________________________________________________________________________\n",
      "dense_6 (Dense)                 (None, 128)          65664       activation_4[0][0]               \n",
      "__________________________________________________________________________________________________\n",
      "activation_5 (Activation)       (None, 128)          0           dense_6[0][0]                    \n",
      "__________________________________________________________________________________________________\n",
      "dense_7 (Dense)                 (None, 1)            129         activation_5[0][0]               \n",
      "==================================================================================================\n",
      "Total params: 2,468,252\n",
      "Trainable params: 2,468,252\n",
      "Non-trainable params: 0\n",
      "__________________________________________________________________________________________________\n",
      "Epoch 1/100\n",
      "293/293 [==============================] - 7s 21ms/step - loss: 5.4012 - rmse: 1.1251 - root_mean_squared_error: 1.1259 - val_loss: 5.0293 - val_rmse: 1.1143 - val_root_mean_squared_error: 1.1152\n",
      "Epoch 2/100\n",
      "293/293 [==============================] - 6s 20ms/step - loss: 4.9207 - rmse: 1.1174 - root_mean_squared_error: 1.1182 - val_loss: 4.5910 - val_rmse: 1.1086 - val_root_mean_squared_error: 1.1094\n",
      "Epoch 3/100\n",
      "293/293 [==============================] - 6s 20ms/step - loss: 4.4945 - rmse: 1.1113 - root_mean_squared_error: 1.1120 - val_loss: 4.2003 - val_rmse: 1.1022 - val_root_mean_squared_error: 1.1030\n",
      "Epoch 4/100\n",
      "293/293 [==============================] - 6s 20ms/step - loss: 4.1155 - rmse: 1.1056 - root_mean_squared_error: 1.1064 - val_loss: 3.8499 - val_rmse: 1.0932 - val_root_mean_squared_error: 1.0940\n",
      "Epoch 5/100\n",
      "293/293 [==============================] - 6s 20ms/step - loss: 3.7670 - rmse: 1.0886 - root_mean_squared_error: 1.0895 - val_loss: 3.5326 - val_rmse: 1.0789 - val_root_mean_squared_error: 1.0798\n",
      "Epoch 6/100\n",
      "293/293 [==============================] - 6s 20ms/step - loss: 3.4557 - rmse: 1.0714 - root_mean_squared_error: 1.0722 - val_loss: 3.2439 - val_rmse: 1.0590 - val_root_mean_squared_error: 1.0600\n",
      "Epoch 7/100\n",
      "293/293 [==============================] - 6s 20ms/step - loss: 3.1685 - rmse: 1.0452 - root_mean_squared_error: 1.0461 - val_loss: 2.9809 - val_rmse: 1.0347 - val_root_mean_squared_error: 1.0357\n",
      "Epoch 8/100\n",
      "293/293 [==============================] - 6s 20ms/step - loss: 2.9052 - rmse: 1.0138 - root_mean_squared_error: 1.0148 - val_loss: 2.7468 - val_rmse: 1.0130 - val_root_mean_squared_error: 1.0141\n",
      "Epoch 9/100\n",
      "293/293 [==============================] - 6s 20ms/step - loss: 2.6741 - rmse: 0.9891 - root_mean_squared_error: 0.9901 - val_loss: 2.5370 - val_rmse: 0.9926 - val_root_mean_squared_error: 0.9937\n",
      "Epoch 10/100\n",
      "293/293 [==============================] - 6s 20ms/step - loss: 2.4799 - rmse: 0.9789 - root_mean_squared_error: 0.9798 - val_loss: 2.3551 - val_rmse: 0.9793 - val_root_mean_squared_error: 0.9804\n",
      "Epoch 11/100\n",
      "293/293 [==============================] - 6s 20ms/step - loss: 2.2946 - rmse: 0.9575 - root_mean_squared_error: 0.9585 - val_loss: 2.1933 - val_rmse: 0.9678 - val_root_mean_squared_error: 0.9689\n",
      "Epoch 12/100\n",
      "293/293 [==============================] - 6s 20ms/step - loss: 2.1440 - rmse: 0.9530 - root_mean_squared_error: 0.9538 - val_loss: 2.0516 - val_rmse: 0.9598 - val_root_mean_squared_error: 0.9609\n",
      "Epoch 13/100\n",
      "293/293 [==============================] - 6s 20ms/step - loss: 2.0061 - rmse: 0.9450 - root_mean_squared_error: 0.9457 - val_loss: 1.9270 - val_rmse: 0.9543 - val_root_mean_squared_error: 0.9554\n",
      "Epoch 14/100\n",
      "293/293 [==============================] - 6s 20ms/step - loss: 1.8819 - rmse: 0.9365 - root_mean_squared_error: 0.9375 - val_loss: 1.8169 - val_rmse: 0.9503 - val_root_mean_squared_error: 0.9513\n",
      "Epoch 15/100\n",
      "293/293 [==============================] - 6s 20ms/step - loss: 1.7728 - rmse: 0.9304 - root_mean_squared_error: 0.9314 - val_loss: 1.7187 - val_rmse: 0.9463 - val_root_mean_squared_error: 0.9473\n",
      "Epoch 16/100\n",
      "293/293 [==============================] - 6s 20ms/step - loss: 1.6792 - rmse: 0.9284 - root_mean_squared_error: 0.9294 - val_loss: 1.6346 - val_rmse: 0.9463 - val_root_mean_squared_error: 0.9471\n",
      "Epoch 17/100\n",
      "293/293 [==============================] - 6s 20ms/step - loss: 1.6005 - rmse: 0.9312 - root_mean_squared_error: 0.9321 - val_loss: 1.5595 - val_rmse: 0.9458 - val_root_mean_squared_error: 0.9468\n"
     ]
    },
    {
     "name": "stdout",
     "output_type": "stream",
     "text": [
      "Epoch 18/100\n",
      "293/293 [==============================] - 6s 20ms/step - loss: 1.5228 - rmse: 0.9260 - root_mean_squared_error: 0.9270 - val_loss: 1.4944 - val_rmse: 0.9473 - val_root_mean_squared_error: 0.9481\n",
      "Epoch 19/100\n",
      "293/293 [==============================] - 6s 20ms/step - loss: 1.4589 - rmse: 0.9267 - root_mean_squared_error: 0.9277 - val_loss: 1.4273 - val_rmse: 0.9392 - val_root_mean_squared_error: 0.9402\n",
      "Epoch 20/100\n",
      "293/293 [==============================] - 6s 20ms/step - loss: 1.4024 - rmse: 0.9276 - root_mean_squared_error: 0.9287 - val_loss: 1.3808 - val_rmse: 0.9452 - val_root_mean_squared_error: 0.9461\n",
      "Epoch 21/100\n",
      "293/293 [==============================] - 6s 20ms/step - loss: 1.3488 - rmse: 0.9251 - root_mean_squared_error: 0.9262 - val_loss: 1.3276 - val_rmse: 0.9388 - val_root_mean_squared_error: 0.9397\n",
      "Epoch 22/100\n",
      "293/293 [==============================] - 6s 20ms/step - loss: 1.3060 - rmse: 0.9277 - root_mean_squared_error: 0.9287 - val_loss: 1.2910 - val_rmse: 0.9438 - val_root_mean_squared_error: 0.9448\n",
      "Epoch 23/100\n",
      "293/293 [==============================] - 6s 20ms/step - loss: 1.2672 - rmse: 0.9294 - root_mean_squared_error: 0.9304 - val_loss: 1.2482 - val_rmse: 0.9379 - val_root_mean_squared_error: 0.9389\n",
      "Epoch 24/100\n",
      "293/293 [==============================] - 6s 20ms/step - loss: 1.2301 - rmse: 0.9281 - root_mean_squared_error: 0.9291 - val_loss: 1.2140 - val_rmse: 0.9367 - val_root_mean_squared_error: 0.9376\n",
      "Epoch 25/100\n",
      "293/293 [==============================] - 6s 19ms/step - loss: 1.1947 - rmse: 0.9247 - root_mean_squared_error: 0.9258 - val_loss: 1.1876 - val_rmse: 0.9396 - val_root_mean_squared_error: 0.9406\n",
      "Epoch 26/100\n",
      "293/293 [==============================] - 6s 20ms/step - loss: 1.1736 - rmse: 0.9321 - root_mean_squared_error: 0.9331 - val_loss: 1.1619 - val_rmse: 0.9399 - val_root_mean_squared_error: 0.9409\n",
      "Epoch 27/100\n",
      "293/293 [==============================] - 6s 20ms/step - loss: 1.1432 - rmse: 0.9270 - root_mean_squared_error: 0.9279 - val_loss: 1.1443 - val_rmse: 0.9454 - val_root_mean_squared_error: 0.9464\n",
      "Epoch 28/100\n",
      "293/293 [==============================] - 6s 20ms/step - loss: 1.1261 - rmse: 0.9324 - root_mean_squared_error: 0.9336 - val_loss: 1.1144 - val_rmse: 0.9362 - val_root_mean_squared_error: 0.9371\n",
      "Epoch 29/100\n",
      "293/293 [==============================] - 6s 19ms/step - loss: 1.1023 - rmse: 0.9285 - root_mean_squared_error: 0.9295 - val_loss: 1.0966 - val_rmse: 0.9367 - val_root_mean_squared_error: 0.9376\n",
      "Epoch 30/100\n",
      "293/293 [==============================] - 5s 19ms/step - loss: 1.0795 - rmse: 0.9235 - root_mean_squared_error: 0.9246 - val_loss: 1.0879 - val_rmse: 0.9443 - val_root_mean_squared_error: 0.9451\n",
      "Epoch 31/100\n",
      "293/293 [==============================] - 5s 19ms/step - loss: 1.0658 - rmse: 0.9256 - root_mean_squared_error: 0.9266 - val_loss: 1.0663 - val_rmse: 0.9372 - val_root_mean_squared_error: 0.9381\n",
      "Epoch 32/100\n",
      "293/293 [==============================] - 5s 19ms/step - loss: 1.0529 - rmse: 0.9268 - root_mean_squared_error: 0.9280 - val_loss: 1.0533 - val_rmse: 0.9371 - val_root_mean_squared_error: 0.9380\n",
      "Epoch 33/100\n",
      "293/293 [==============================] - 6s 19ms/step - loss: 1.0431 - rmse: 0.9296 - root_mean_squared_error: 0.9306 - val_loss: 1.0503 - val_rmse: 0.9455 - val_root_mean_squared_error: 0.9466\n",
      "Epoch 34/100\n",
      "293/293 [==============================] - 6s 21ms/step - loss: 1.0324 - rmse: 0.9301 - root_mean_squared_error: 0.9312 - val_loss: 1.0410 - val_rmse: 0.9466 - val_root_mean_squared_error: 0.9476\n",
      "Epoch 35/100\n",
      "293/293 [==============================] - 6s 21ms/step - loss: 1.0193 - rmse: 0.9269 - root_mean_squared_error: 0.9278 - val_loss: 1.0725 - val_rmse: 0.9871 - val_root_mean_squared_error: 0.9883\n",
      "Epoch 36/100\n",
      "293/293 [==============================] - 6s 21ms/step - loss: 1.0176 - rmse: 0.9341 - root_mean_squared_error: 0.9351 - val_loss: 1.0362 - val_rmse: 0.9588 - val_root_mean_squared_error: 0.9599\n",
      "Epoch 37/100\n",
      "293/293 [==============================] - 6s 21ms/step - loss: 1.0024 - rmse: 0.9266 - root_mean_squared_error: 0.9277 - val_loss: 1.0078 - val_rmse: 0.9376 - val_root_mean_squared_error: 0.9384\n",
      "Epoch 38/100\n",
      "293/293 [==============================] - 6s 21ms/step - loss: 0.9954 - rmse: 0.9265 - root_mean_squared_error: 0.9277 - val_loss: 1.0067 - val_rmse: 0.9429 - val_root_mean_squared_error: 0.9439\n",
      "Epoch 39/100\n",
      "293/293 [==============================] - 6s 21ms/step - loss: 0.9915 - rmse: 0.9290 - root_mean_squared_error: 0.9299 - val_loss: 0.9948 - val_rmse: 0.9367 - val_root_mean_squared_error: 0.9376\n",
      "Epoch 40/100\n",
      "293/293 [==============================] - 6s 21ms/step - loss: 0.9874 - rmse: 0.9304 - root_mean_squared_error: 0.9313 - val_loss: 0.9954 - val_rmse: 0.9424 - val_root_mean_squared_error: 0.9435\n",
      "Epoch 41/100\n",
      "293/293 [==============================] - 6s 21ms/step - loss: 0.9782 - rmse: 0.9261 - root_mean_squared_error: 0.9271 - val_loss: 0.9896 - val_rmse: 0.9412 - val_root_mean_squared_error: 0.9421\n",
      "Epoch 42/100\n",
      "293/293 [==============================] - 6s 21ms/step - loss: 0.9765 - rmse: 0.9288 - root_mean_squared_error: 0.9299 - val_loss: 0.9834 - val_rmse: 0.9390 - val_root_mean_squared_error: 0.9399\n",
      "Epoch 43/100\n",
      "293/293 [==============================] - 6s 21ms/step - loss: 0.9723 - rmse: 0.9286 - root_mean_squared_error: 0.9296 - val_loss: 0.9826 - val_rmse: 0.9417 - val_root_mean_squared_error: 0.9427\n",
      "Epoch 44/100\n",
      "293/293 [==============================] - 6s 21ms/step - loss: 0.9650 - rmse: 0.9247 - root_mean_squared_error: 0.9261 - val_loss: 0.9755 - val_rmse: 0.9378 - val_root_mean_squared_error: 0.9386\n",
      "Epoch 45/100\n",
      "293/293 [==============================] - 6s 21ms/step - loss: 0.9676 - rmse: 0.9304 - root_mean_squared_error: 0.9314 - val_loss: 0.9894 - val_rmse: 0.9546 - val_root_mean_squared_error: 0.9557\n",
      "Epoch 46/100\n",
      "293/293 [==============================] - 6s 21ms/step - loss: 0.9601 - rmse: 0.9257 - root_mean_squared_error: 0.9267 - val_loss: 0.9716 - val_rmse: 0.9392 - val_root_mean_squared_error: 0.9401\n",
      "Epoch 47/100\n",
      "293/293 [==============================] - 6s 21ms/step - loss: 0.9595 - rmse: 0.9275 - root_mean_squared_error: 0.9287 - val_loss: 0.9672 - val_rmse: 0.9371 - val_root_mean_squared_error: 0.9380\n",
      "Epoch 48/100\n",
      "293/293 [==============================] - 6s 21ms/step - loss: 0.9570 - rmse: 0.9272 - root_mean_squared_error: 0.9282 - val_loss: 0.9664 - val_rmse: 0.9384 - val_root_mean_squared_error: 0.9392\n",
      "Epoch 49/100\n",
      "293/293 [==============================] - 6s 22ms/step - loss: 0.9567 - rmse: 0.9288 - root_mean_squared_error: 0.9300 - val_loss: 0.9637 - val_rmse: 0.9374 - val_root_mean_squared_error: 0.9383\n",
      "Epoch 50/100\n",
      "293/293 [==============================] - 6s 21ms/step - loss: 0.9529 - rmse: 0.9268 - root_mean_squared_error: 0.9278 - val_loss: 0.9657 - val_rmse: 0.9410 - val_root_mean_squared_error: 0.9419\n",
      "Epoch 51/100\n",
      "293/293 [==============================] - 6s 21ms/step - loss: 0.9512 - rmse: 0.9265 - root_mean_squared_error: 0.9277 - val_loss: 0.9604 - val_rmse: 0.9371 - val_root_mean_squared_error: 0.9380\n",
      "Epoch 52/100\n",
      "293/293 [==============================] - 6s 21ms/step - loss: 0.9491 - rmse: 0.9259 - root_mean_squared_error: 0.9272 - val_loss: 0.9664 - val_rmse: 0.9443 - val_root_mean_squared_error: 0.9451\n",
      "Epoch 53/100\n",
      "293/293 [==============================] - 6s 21ms/step - loss: 0.9497 - rmse: 0.9278 - root_mean_squared_error: 0.9288 - val_loss: 0.9589 - val_rmse: 0.9380 - val_root_mean_squared_error: 0.9388\n",
      "Epoch 54/100\n",
      "293/293 [==============================] - 6s 21ms/step - loss: 0.9466 - rmse: 0.9257 - root_mean_squared_error: 0.9269 - val_loss: 0.9579 - val_rmse: 0.9380 - val_root_mean_squared_error: 0.9389\n",
      "Epoch 55/100\n",
      "293/293 [==============================] - 6s 21ms/step - loss: 0.9515 - rmse: 0.9315 - root_mean_squared_error: 0.9327 - val_loss: 0.9574 - val_rmse: 0.9384 - val_root_mean_squared_error: 0.9393\n",
      "Epoch 56/100\n",
      "293/293 [==============================] - 6s 21ms/step - loss: 0.9450 - rmse: 0.9259 - root_mean_squared_error: 0.9270 - val_loss: 0.9583 - val_rmse: 0.9400 - val_root_mean_squared_error: 0.9409\n",
      "Epoch 57/100\n"
     ]
    },
    {
     "name": "stdout",
     "output_type": "stream",
     "text": [
      "293/293 [==============================] - 6s 20ms/step - loss: 0.9443 - rmse: 0.9260 - root_mean_squared_error: 0.9271 - val_loss: 0.9672 - val_rmse: 0.9496 - val_root_mean_squared_error: 0.9506\n",
      "Epoch 58/100\n",
      "293/293 [==============================] - 6s 20ms/step - loss: 0.9436 - rmse: 0.9259 - root_mean_squared_error: 0.9271 - val_loss: 0.9604 - val_rmse: 0.9436 - val_root_mean_squared_error: 0.9444\n",
      "Epoch 59/100\n",
      "293/293 [==============================] - 6s 19ms/step - loss: 0.9455 - rmse: 0.9285 - root_mean_squared_error: 0.9296 - val_loss: 0.9572 - val_rmse: 0.9409 - val_root_mean_squared_error: 0.9419\n",
      "Epoch 60/100\n",
      "293/293 [==============================] - 6s 19ms/step - loss: 0.9392 - rmse: 0.9227 - root_mean_squared_error: 0.9236 - val_loss: 0.9592 - val_rmse: 0.9434 - val_root_mean_squared_error: 0.9442\n",
      "Epoch 61/100\n",
      "293/293 [==============================] - 6s 19ms/step - loss: 0.9464 - rmse: 0.9305 - root_mean_squared_error: 0.9314 - val_loss: 0.9516 - val_rmse: 0.9361 - val_root_mean_squared_error: 0.9370\n",
      "Epoch 62/100\n",
      "293/293 [==============================] - 6s 19ms/step - loss: 0.9475 - rmse: 0.9319 - root_mean_squared_error: 0.9328 - val_loss: 0.9559 - val_rmse: 0.9409 - val_root_mean_squared_error: 0.9417\n",
      "Epoch 63/100\n",
      "293/293 [==============================] - 6s 20ms/step - loss: 0.9443 - rmse: 0.9291 - root_mean_squared_error: 0.9301 - val_loss: 0.9521 - val_rmse: 0.9374 - val_root_mean_squared_error: 0.9383\n",
      "Epoch 64/100\n",
      "293/293 [==============================] - 6s 19ms/step - loss: 0.9407 - rmse: 0.9259 - root_mean_squared_error: 0.9269 - val_loss: 0.9544 - val_rmse: 0.9400 - val_root_mean_squared_error: 0.9410\n",
      "Epoch 65/100\n",
      "293/293 [==============================] - 6s 19ms/step - loss: 0.9424 - rmse: 0.9279 - root_mean_squared_error: 0.9289 - val_loss: 0.9510 - val_rmse: 0.9370 - val_root_mean_squared_error: 0.9379\n",
      "Epoch 66/100\n",
      "293/293 [==============================] - 6s 20ms/step - loss: 0.9370 - rmse: 0.9227 - root_mean_squared_error: 0.9237 - val_loss: 0.9612 - val_rmse: 0.9474 - val_root_mean_squared_error: 0.9485\n",
      "Epoch 67/100\n",
      "293/293 [==============================] - 6s 21ms/step - loss: 0.9429 - rmse: 0.9289 - root_mean_squared_error: 0.9302 - val_loss: 0.9525 - val_rmse: 0.9390 - val_root_mean_squared_error: 0.9399\n",
      "Epoch 68/100\n",
      "293/293 [==============================] - 6s 21ms/step - loss: 0.9395 - rmse: 0.9257 - root_mean_squared_error: 0.9267 - val_loss: 0.9941 - val_rmse: 0.9809 - val_root_mean_squared_error: 0.9815\n",
      "Epoch 69/100\n",
      "293/293 [==============================] - 6s 21ms/step - loss: 0.9385 - rmse: 0.9250 - root_mean_squared_error: 0.9261 - val_loss: 0.9510 - val_rmse: 0.9380 - val_root_mean_squared_error: 0.9388\n",
      "Epoch 70/100\n",
      "293/293 [==============================] - 6s 21ms/step - loss: 0.9376 - rmse: 0.9243 - root_mean_squared_error: 0.9254 - val_loss: 0.9525 - val_rmse: 0.9395 - val_root_mean_squared_error: 0.9405\n",
      "Epoch 71/100\n",
      "293/293 [==============================] - 6s 21ms/step - loss: 0.9354 - rmse: 0.9223 - root_mean_squared_error: 0.9235 - val_loss: 0.9502 - val_rmse: 0.9375 - val_root_mean_squared_error: 0.9384\n",
      "Epoch 72/100\n",
      "293/293 [==============================] - 6s 21ms/step - loss: 0.9351 - rmse: 0.9221 - root_mean_squared_error: 0.9232 - val_loss: 0.9561 - val_rmse: 0.9434 - val_root_mean_squared_error: 0.9442\n",
      "Epoch 73/100\n",
      "293/293 [==============================] - 6s 21ms/step - loss: 0.9404 - rmse: 0.9276 - root_mean_squared_error: 0.9289 - val_loss: 0.9509 - val_rmse: 0.9384 - val_root_mean_squared_error: 0.9394\n",
      "Epoch 74/100\n",
      "293/293 [==============================] - 6s 21ms/step - loss: 0.9424 - rmse: 0.9297 - root_mean_squared_error: 0.9308 - val_loss: 0.9499 - val_rmse: 0.9376 - val_root_mean_squared_error: 0.9384\n",
      "Epoch 75/100\n",
      "293/293 [==============================] - 6s 21ms/step - loss: 0.9394 - rmse: 0.9267 - root_mean_squared_error: 0.9277 - val_loss: 0.9513 - val_rmse: 0.9390 - val_root_mean_squared_error: 0.9398\n",
      "Epoch 76/100\n",
      "293/293 [==============================] - 6s 21ms/step - loss: 0.9366 - rmse: 0.9240 - root_mean_squared_error: 0.9251 - val_loss: 0.9525 - val_rmse: 0.9403 - val_root_mean_squared_error: 0.9411\n",
      "Epoch 77/100\n",
      "293/293 [==============================] - 6s 21ms/step - loss: 0.9436 - rmse: 0.9312 - root_mean_squared_error: 0.9324 - val_loss: 0.9499 - val_rmse: 0.9378 - val_root_mean_squared_error: 0.9387\n",
      "Epoch 78/100\n",
      "293/293 [==============================] - 6s 21ms/step - loss: 0.9411 - rmse: 0.9287 - root_mean_squared_error: 0.9300 - val_loss: 0.9496 - val_rmse: 0.9375 - val_root_mean_squared_error: 0.9385\n",
      "Epoch 79/100\n",
      "293/293 [==============================] - 6s 22ms/step - loss: 0.9377 - rmse: 0.9254 - root_mean_squared_error: 0.9263 - val_loss: 0.9491 - val_rmse: 0.9371 - val_root_mean_squared_error: 0.9380\n",
      "Epoch 80/100\n",
      "293/293 [==============================] - 6s 21ms/step - loss: 0.9394 - rmse: 0.9272 - root_mean_squared_error: 0.9281 - val_loss: 0.9537 - val_rmse: 0.9418 - val_root_mean_squared_error: 0.9428\n",
      "Epoch 81/100\n",
      "293/293 [==============================] - 6s 21ms/step - loss: 0.9414 - rmse: 0.9293 - root_mean_squared_error: 0.9302 - val_loss: 0.9532 - val_rmse: 0.9413 - val_root_mean_squared_error: 0.9423\n",
      "Epoch 82/100\n",
      "293/293 [==============================] - 6s 21ms/step - loss: 0.9358 - rmse: 0.9237 - root_mean_squared_error: 0.9248 - val_loss: 0.9500 - val_rmse: 0.9382 - val_root_mean_squared_error: 0.9391\n",
      "Epoch 83/100\n",
      "293/293 [==============================] - 6s 21ms/step - loss: 0.9390 - rmse: 0.9270 - root_mean_squared_error: 0.9281 - val_loss: 0.9503 - val_rmse: 0.9384 - val_root_mean_squared_error: 0.9393\n",
      "Epoch 84/100\n",
      "293/293 [==============================] - 6s 21ms/step - loss: 0.9381 - rmse: 0.9260 - root_mean_squared_error: 0.9271 - val_loss: 0.9506 - val_rmse: 0.9388 - val_root_mean_squared_error: 0.9397\n",
      "Epoch 85/100\n",
      "293/293 [==============================] - 6s 21ms/step - loss: 0.9385 - rmse: 0.9266 - root_mean_squared_error: 0.9275 - val_loss: 0.9495 - val_rmse: 0.9378 - val_root_mean_squared_error: 0.9388\n",
      "Epoch 86/100\n",
      "293/293 [==============================] - 6s 21ms/step - loss: 0.9359 - rmse: 0.9239 - root_mean_squared_error: 0.9249 - val_loss: 0.9501 - val_rmse: 0.9384 - val_root_mean_squared_error: 0.9393\n",
      "Epoch 87/100\n",
      "293/293 [==============================] - 6s 21ms/step - loss: 0.9392 - rmse: 0.9273 - root_mean_squared_error: 0.9284 - val_loss: 0.9484 - val_rmse: 0.9367 - val_root_mean_squared_error: 0.9377\n",
      "Epoch 88/100\n",
      "293/293 [==============================] - 6s 22ms/step - loss: 0.9384 - rmse: 0.9265 - root_mean_squared_error: 0.9274 - val_loss: 0.9489 - val_rmse: 0.9373 - val_root_mean_squared_error: 0.9382\n",
      "Epoch 89/100\n",
      "293/293 [==============================] - 6s 21ms/step - loss: 0.9404 - rmse: 0.9285 - root_mean_squared_error: 0.9295 - val_loss: 0.9503 - val_rmse: 0.9387 - val_root_mean_squared_error: 0.9396\n",
      "Epoch 90/100\n",
      "293/293 [==============================] - 6s 21ms/step - loss: 0.9361 - rmse: 0.9243 - root_mean_squared_error: 0.9254 - val_loss: 0.9562 - val_rmse: 0.9447 - val_root_mean_squared_error: 0.9457\n",
      "Epoch 91/100\n",
      "293/293 [==============================] - 6s 21ms/step - loss: 0.9337 - rmse: 0.9219 - root_mean_squared_error: 0.9227 - val_loss: 0.9510 - val_rmse: 0.9396 - val_root_mean_squared_error: 0.9404\n",
      "Epoch 92/100\n",
      "293/293 [==============================] - 6s 21ms/step - loss: 0.9368 - rmse: 0.9251 - root_mean_squared_error: 0.9262 - val_loss: 0.9633 - val_rmse: 0.9518 - val_root_mean_squared_error: 0.9529\n",
      "Epoch 93/100\n",
      "293/293 [==============================] - 6s 21ms/step - loss: 0.9472 - rmse: 0.9354 - root_mean_squared_error: 0.9363 - val_loss: 0.9541 - val_rmse: 0.9427 - val_root_mean_squared_error: 0.9435\n",
      "Epoch 94/100\n",
      "293/293 [==============================] - 6s 21ms/step - loss: 0.9409 - rmse: 0.9291 - root_mean_squared_error: 0.9300 - val_loss: 0.9486 - val_rmse: 0.9371 - val_root_mean_squared_error: 0.9380\n",
      "Epoch 95/100\n",
      "293/293 [==============================] - 6s 21ms/step - loss: 0.9387 - rmse: 0.9270 - root_mean_squared_error: 0.9278 - val_loss: 0.9554 - val_rmse: 0.9439 - val_root_mean_squared_error: 0.9447\n",
      "Epoch 96/100\n"
     ]
    },
    {
     "name": "stdout",
     "output_type": "stream",
     "text": [
      "293/293 [==============================] - 6s 20ms/step - loss: 0.9420 - rmse: 0.9304 - root_mean_squared_error: 0.9314 - val_loss: 0.9487 - val_rmse: 0.9373 - val_root_mean_squared_error: 0.9382\n",
      "Epoch 97/100\n",
      "293/293 [==============================] - 6s 20ms/step - loss: 0.9359 - rmse: 0.9242 - root_mean_squared_error: 0.9252 - val_loss: 0.9496 - val_rmse: 0.9382 - val_root_mean_squared_error: 0.9391\n",
      "Epoch 98/100\n",
      "293/293 [==============================] - 6s 20ms/step - loss: 0.9400 - rmse: 0.9283 - root_mean_squared_error: 0.9294 - val_loss: 0.9499 - val_rmse: 0.9385 - val_root_mean_squared_error: 0.9394\n",
      "Epoch 99/100\n",
      "293/293 [==============================] - 6s 19ms/step - loss: 0.9376 - rmse: 0.9259 - root_mean_squared_error: 0.9269 - val_loss: 0.9490 - val_rmse: 0.9377 - val_root_mean_squared_error: 0.9386\n",
      "Epoch 100/100\n",
      "293/293 [==============================] - 6s 20ms/step - loss: 0.9366 - rmse: 0.9250 - root_mean_squared_error: 0.9263 - val_loss: 0.9487 - val_rmse: 0.9373 - val_root_mean_squared_error: 0.9382\n",
      "DeepNeuralNetwork_Recommender evaluation start.\n",
      "DeepNeuralNetwork_Recommender tf.Tensor(1.119885586477476, shape=(), dtype=float64)\n"
     ]
    }
   ],
   "source": [
    "models = {\n",
    "    \"baseline\": Baseline_Recommender(),\n",
    "    \"ubcf\": Ubcf_Recommender(),\n",
    "    \"ubcf_knn\": Ubcf_Knn_Recommender(K=30),\n",
    "    \"ubcf_knn_bias\": Ubcf_Knn_Bias_Recommender(K=30),\n",
    "    \"ubcf_knn_bias_conf\": Ubcf_Knn_Bias_Conf_Recommender(K=30, rating_cnt=2, min_rating=2),\n",
    "    \"ibdf\": Ibcf_Recommender(),\n",
    "    \"mf\": MF_Rrecommender(K=30, alpha=0.001, beta=0.02, iter=100, verbose=True),\n",
    "    \"olnnr\": OneLayerNeuralNetwork_Recommender(),\n",
    "    \"dnnr\": DeepNeuralNetwork_Recommender()\n",
    "}\n",
    "\n",
    "scores = dict()\n",
    "for name, model in models.items():\n",
    "    model.train(ratings)\n",
    "    scores[name] = model.score()\n"
   ]
  },
  {
   "cell_type": "code",
   "execution_count": 51,
   "metadata": {},
   "outputs": [
    {
     "data": {
      "text/plain": [
       "{'baseline': 1.1211813036257785,\n",
       " 'ubcf': 0.9550036102729783,\n",
       " 'ubcf_knn': 0.9006918048462648,\n",
       " 'ubcf_knn_bias': 0.8423591461215744,\n",
       " 'ubcf_knn_bias_conf': 0.8513291936625513,\n",
       " 'ibdf': 0.976914219105312,\n",
       " 'mf': 0.769151304135486,\n",
       " 'olnnr': <tf.Tensor: shape=(), dtype=float64, numpy=1.1231194793988977>,\n",
       " 'dnnr': <tf.Tensor: shape=(), dtype=float64, numpy=1.119885586477476>}"
      ]
     },
     "execution_count": 51,
     "metadata": {},
     "output_type": "execute_result"
    }
   ],
   "source": [
    "scores"
   ]
  },
  {
   "cell_type": "code",
   "execution_count": null,
   "metadata": {},
   "outputs": [],
   "source": []
  }
 ],
 "metadata": {
  "kernelspec": {
   "display_name": "3.7",
   "language": "python",
   "name": "3.7"
  },
  "language_info": {
   "codemirror_mode": {
    "name": "ipython",
    "version": 3
   },
   "file_extension": ".py",
   "mimetype": "text/x-python",
   "name": "python",
   "nbconvert_exporter": "python",
   "pygments_lexer": "ipython3",
   "version": "3.7.7"
  }
 },
 "nbformat": 4,
 "nbformat_minor": 4
}
